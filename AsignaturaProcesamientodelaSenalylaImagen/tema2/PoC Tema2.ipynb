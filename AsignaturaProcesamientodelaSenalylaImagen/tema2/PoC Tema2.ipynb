{
 "metadata": {
  "name": "",
  "signature": "sha256:822779bb9ce5534b91faa9a6d28e0472ff7e02b57382644b49f21ff57f020a94"
 },
 "nbformat": 3,
 "nbformat_minor": 0,
 "worksheets": [
  {
   "cells": [
    {
     "cell_type": "code",
     "collapsed": false,
     "input": [
      "a=[1,2,3,5,pi,7,0,0.01]"
     ],
     "language": "python",
     "metadata": {},
     "outputs": [],
     "prompt_number": 1
    },
    {
     "cell_type": "code",
     "collapsed": false,
     "input": [
      "print a"
     ],
     "language": "python",
     "metadata": {},
     "outputs": [
      {
       "output_type": "stream",
       "stream": "stdout",
       "text": [
        "[1, 2, 3, 5, 3.141592653589793, 7, 0, 0.01]\n"
       ]
      }
     ],
     "prompt_number": 2
    },
    {
     "cell_type": "code",
     "collapsed": false,
     "input": [
      "A=array(([1,2,3,4],[0,2,9,7],[0.1,0.2,0.3,0.4])) # matriz 3 por 4"
     ],
     "language": "python",
     "metadata": {},
     "outputs": [],
     "prompt_number": 3
    },
    {
     "cell_type": "code",
     "collapsed": false,
     "input": [
      "print A"
     ],
     "language": "python",
     "metadata": {},
     "outputs": [
      {
       "output_type": "stream",
       "stream": "stdout",
       "text": [
        "[[ 1.   2.   3.   4. ]\n",
        " [ 0.   2.   9.   7. ]\n",
        " [ 0.1  0.2  0.3  0.4]]\n"
       ]
      }
     ],
     "prompt_number": 4
    },
    {
     "cell_type": "code",
     "collapsed": false,
     "input": [
      "whos"
     ],
     "language": "python",
     "metadata": {},
     "outputs": [
      {
       "output_type": "stream",
       "stream": "stdout",
       "text": [
        "Variable   Type       Data/Info\n",
        "-------------------------------\n",
        "A          ndarray    3x4: 12 elems, type `float64`, 96 bytes\n",
        "a          list       n=8\n"
       ]
      }
     ],
     "prompt_number": 5
    },
    {
     "cell_type": "code",
     "collapsed": false,
     "input": [
      "a[0]"
     ],
     "language": "python",
     "metadata": {},
     "outputs": [
      {
       "metadata": {},
       "output_type": "pyout",
       "prompt_number": 6,
       "text": [
        "1"
       ]
      }
     ],
     "prompt_number": 6
    },
    {
     "cell_type": "code",
     "collapsed": false,
     "input": [
      "a[1:5]"
     ],
     "language": "python",
     "metadata": {},
     "outputs": [
      {
       "metadata": {},
       "output_type": "pyout",
       "prompt_number": 7,
       "text": [
        "[2, 3, 5, 3.141592653589793]"
       ]
      }
     ],
     "prompt_number": 7
    },
    {
     "cell_type": "code",
     "collapsed": false,
     "input": [
      "a[5:1:-1]"
     ],
     "language": "python",
     "metadata": {},
     "outputs": [
      {
       "metadata": {},
       "output_type": "pyout",
       "prompt_number": 9,
       "text": [
        "[7, 3.141592653589793, 5, 3]"
       ]
      }
     ],
     "prompt_number": 9
    },
    {
     "cell_type": "code",
     "collapsed": false,
     "input": [
      "p=arange(0,1.0,0.25)"
     ],
     "language": "python",
     "metadata": {},
     "outputs": [],
     "prompt_number": 10
    },
    {
     "cell_type": "code",
     "collapsed": false,
     "input": [
      "print p"
     ],
     "language": "python",
     "metadata": {},
     "outputs": [
      {
       "output_type": "stream",
       "stream": "stdout",
       "text": [
        "[ 0.    0.25  0.5   0.75]\n"
       ]
      }
     ],
     "prompt_number": 11
    },
    {
     "cell_type": "code",
     "collapsed": false,
     "input": [
      "q=linspace(0,1,4)"
     ],
     "language": "python",
     "metadata": {},
     "outputs": [],
     "prompt_number": 12
    },
    {
     "cell_type": "code",
     "collapsed": false,
     "input": [
      "print q"
     ],
     "language": "python",
     "metadata": {},
     "outputs": [
      {
       "output_type": "stream",
       "stream": "stdout",
       "text": [
        "[ 0.          0.33333333  0.66666667  1.        ]\n"
       ]
      }
     ],
     "prompt_number": 13
    },
    {
     "cell_type": "code",
     "collapsed": false,
     "input": [
      "from __future__ import division"
     ],
     "language": "python",
     "metadata": {},
     "outputs": [],
     "prompt_number": 34
    },
    {
     "cell_type": "code",
     "collapsed": false,
     "input": [
      "t=arange(-pi,pi,0.05)"
     ],
     "language": "python",
     "metadata": {},
     "outputs": [],
     "prompt_number": 35
    },
    {
     "cell_type": "code",
     "collapsed": false,
     "input": [
      "h=t*(t-1)**2"
     ],
     "language": "python",
     "metadata": {},
     "outputs": [],
     "prompt_number": 36
    },
    {
     "cell_type": "code",
     "collapsed": false,
     "input": [
      "print h"
     ],
     "language": "python",
     "metadata": {},
     "outputs": [
      {
       "output_type": "stream",
       "stream": "stdout",
       "text": [
        "[ -5.38870781e+01  -5.17567559e+01  -4.96828075e+01  -4.76644831e+01\n",
        "  -4.57010325e+01  -4.37917058e+01  -4.19357530e+01  -4.01324241e+01\n",
        "  -3.83809691e+01  -3.66806380e+01  -3.50306807e+01  -3.34303474e+01\n",
        "  -3.18788879e+01  -3.03755523e+01  -2.89195907e+01  -2.75102529e+01\n",
        "  -2.61467890e+01  -2.48284490e+01  -2.35544828e+01  -2.23241406e+01\n",
        "  -2.11366723e+01  -1.99913278e+01  -1.88873573e+01  -1.78240106e+01\n",
        "  -1.68005378e+01  -1.58161889e+01  -1.48702139e+01  -1.39618628e+01\n",
        "  -1.30903856e+01  -1.22550323e+01  -1.14550528e+01  -1.06896973e+01\n",
        "  -9.95821561e+00  -9.25985784e+00  -8.59387395e+00  -7.95951396e+00\n",
        "  -7.35602786e+00  -6.78266564e+00  -6.23867732e+00  -5.72331289e+00\n",
        "  -5.23582234e+00  -4.77545569e+00  -4.34146293e+00  -3.93309405e+00\n",
        "  -3.54959907e+00  -3.19022797e+00  -2.85423077e+00  -2.54085745e+00\n",
        "  -2.24935803e+00  -1.97898249e+00  -1.72898085e+00  -1.49860309e+00\n",
        "  -1.28709923e+00  -1.09371925e+00  -9.17713162e-01  -7.58330966e-01\n",
        "  -6.14822659e-01  -4.86438242e-01  -3.72427715e-01  -2.72041078e-01\n",
        "  -1.84528330e-01  -1.09139472e-01  -4.51245044e-02   8.26657372e-03\n",
        "   5.17837621e-02   8.61770606e-02   1.12196469e-01   1.30591988e-01\n",
        "   1.42113617e-01   1.47511357e-01   1.47535206e-01   1.42935166e-01\n",
        "   1.34461236e-01   1.22863416e-01   1.08891706e-01   9.32961067e-02\n",
        "   7.68266174e-02   6.02332383e-02   4.42659694e-02   2.96748107e-02\n",
        "   1.72097621e-02   7.62082380e-03   1.65799567e-03   7.12777341e-05\n",
        "   3.61066999e-03   1.30261725e-02   2.90677851e-02   5.24855080e-02\n",
        "   8.40293410e-02   1.24449284e-01   1.74495338e-01   2.34917501e-01\n",
        "   3.06465775e-01   3.89890159e-01   4.85940653e-01   5.95367258e-01\n",
        "   7.18919972e-01   8.57348797e-01   1.01140373e+00   1.18183478e+00\n",
        "   1.36939193e+00   1.57482520e+00   1.79888457e+00   2.04232006e+00\n",
        "   2.30588166e+00   2.59031936e+00   2.89638318e+00   3.22482311e+00\n",
        "   3.57638914e+00   3.95183129e+00   4.35189955e+00   4.77734392e+00\n",
        "   5.22891439e+00   5.70736098e+00   6.21343368e+00   6.74788249e+00\n",
        "   7.31145741e+00   7.90490843e+00   8.52898557e+00   9.18443882e+00\n",
        "   9.87201818e+00   1.05924737e+01   1.13465552e+01   1.21350129e+01\n",
        "   1.29585967e+01   1.38180566e+01]\n"
       ]
      }
     ],
     "prompt_number": 37
    },
    {
     "cell_type": "code",
     "collapsed": false,
     "input": [
      "x=linspace(0,1,1000)\n",
      "f=(sin(4*pi*x**2)+(x-1)**2*cos(x))/(exp(x)+log(2-x))\n",
      "hold(False), plot(x,f), grid(True)"
     ],
     "language": "python",
     "metadata": {},
     "outputs": [
      {
       "metadata": {},
       "output_type": "pyout",
       "prompt_number": 38,
       "text": [
        "(None, [<matplotlib.lines.Line2D at 0x7f1353df4c50>], None)"
       ]
      }
     ],
     "prompt_number": 38
    },
    {
     "cell_type": "code",
     "collapsed": false,
     "input": [
      "plot(f)"
     ],
     "language": "python",
     "metadata": {},
     "outputs": [
      {
       "metadata": {},
       "output_type": "pyout",
       "prompt_number": 39,
       "text": [
        "[<matplotlib.lines.Line2D at 0x7f1353c92e50>]"
       ]
      }
     ],
     "prompt_number": 39
    },
    {
     "cell_type": "code",
     "collapsed": false,
     "input": [
      "t1=linspace(0,1,20) #lets create 4 partitions\n",
      "t2=linspace(0,1,100)\n",
      "t3=linspace(0,1,101)\n",
      "t4=linspace(0,1,2000)"
     ],
     "language": "python",
     "metadata": {},
     "outputs": [],
     "prompt_number": 40
    },
    {
     "cell_type": "code",
     "collapsed": false,
     "input": [
      "x1=sin(2*pi*100*t1)\n",
      "x2=sin(2*pi*100*t2)\n",
      "x3=sin(2*pi*100*t3)\n",
      "x4=sin(2*pi*100*t4)"
     ],
     "language": "python",
     "metadata": {},
     "outputs": [],
     "prompt_number": 41
    },
    {
     "cell_type": "code",
     "collapsed": false,
     "input": [
      "close(1), figure(1,[20.5,8.5])"
     ],
     "language": "python",
     "metadata": {},
     "outputs": [
      {
       "metadata": {},
       "output_type": "pyout",
       "prompt_number": 42,
       "text": [
        "(None, <matplotlib.figure.Figure at 0x7f1353da13d0>)"
       ]
      }
     ],
     "prompt_number": 42
    },
    {
     "cell_type": "code",
     "collapsed": false,
     "input": [
      "subplot(2,2,1),plot(t1,x1),title(u'Grafica de x1')\n",
      "subplot(2,2,2),plot(t2,x2),title(u'Grafica de x2')\n",
      "subplot(2,2,3),plot(t3,x3),title(u'Grafica de x3')\n",
      "subplot(2,2,4),plot(t4,x4),title(u'Grafica de x4')"
     ],
     "language": "python",
     "metadata": {},
     "outputs": [
      {
       "metadata": {},
       "output_type": "pyout",
       "prompt_number": 43,
       "text": [
        "(<matplotlib.axes.AxesSubplot at 0x7f1353be3390>,\n",
        " [<matplotlib.lines.Line2D at 0x7f1353b68050>],\n",
        " <matplotlib.text.Text at 0x7f1353b2a090>)"
       ]
      }
     ],
     "prompt_number": 43
    },
    {
     "cell_type": "code",
     "collapsed": false,
     "input": [
      "X=linspace(2/300,2,300) # partici\u00f3n en el eje x\n",
      "Y=linspace(1/200,1,200) # partici\u00f3n en el eje y\n",
      "[x,y]=meshgrid(X,Y)\n",
      "f=sin(10*x*y) # es la matriz de valores que queriamos"
     ],
     "language": "python",
     "metadata": {},
     "outputs": [],
     "prompt_number": 44
    },
    {
     "cell_type": "code",
     "collapsed": false,
     "input": [
      "from mpl_toolkits.mplot3d import Axes3D"
     ],
     "language": "python",
     "metadata": {},
     "outputs": [],
     "prompt_number": 45
    },
    {
     "cell_type": "code",
     "collapsed": false,
     "input": [
      "close('all')\n",
      "fig=figure(1,[20.5,8.5]).add_subplot(111,projection='3d')\n",
      "fig.plot_surface(x,y,f, rstride=4, cstride=4, cmap=cm.jet)"
     ],
     "language": "python",
     "metadata": {},
     "outputs": [
      {
       "metadata": {},
       "output_type": "pyout",
       "prompt_number": 46,
       "text": [
        "<mpl_toolkits.mplot3d.art3d.Poly3DCollection at 0x7f1353ccce10>"
       ]
      }
     ],
     "prompt_number": 46
    },
    {
     "cell_type": "code",
     "collapsed": false,
     "input": [
      "close(1), figure(1,[16,10]), imshow(f,cmap=cm.jet)"
     ],
     "language": "python",
     "metadata": {},
     "outputs": [
      {
       "ename": "TypeError",
       "evalue": "Invalid dimensions for image data",
       "output_type": "pyerr",
       "traceback": [
        "\u001b[0;31m---------------------------------------------------------------------------\u001b[0m\n\u001b[0;31mTypeError\u001b[0m                                 Traceback (most recent call last)",
        "\u001b[0;32m<ipython-input-10-db98afba3883>\u001b[0m in \u001b[0;36m<module>\u001b[0;34m()\u001b[0m\n\u001b[0;32m----> 1\u001b[0;31m \u001b[0mclose\u001b[0m\u001b[0;34m(\u001b[0m\u001b[0;36m1\u001b[0m\u001b[0;34m)\u001b[0m\u001b[0;34m,\u001b[0m \u001b[0mfigure\u001b[0m\u001b[0;34m(\u001b[0m\u001b[0;36m1\u001b[0m\u001b[0;34m,\u001b[0m\u001b[0;34m[\u001b[0m\u001b[0;36m16\u001b[0m\u001b[0;34m,\u001b[0m\u001b[0;36m10\u001b[0m\u001b[0;34m]\u001b[0m\u001b[0;34m)\u001b[0m\u001b[0;34m,\u001b[0m \u001b[0mimshow\u001b[0m\u001b[0;34m(\u001b[0m\u001b[0mf\u001b[0m\u001b[0;34m,\u001b[0m\u001b[0mcmap\u001b[0m\u001b[0;34m=\u001b[0m\u001b[0mcm\u001b[0m\u001b[0;34m.\u001b[0m\u001b[0mjet\u001b[0m\u001b[0;34m)\u001b[0m\u001b[0;34m\u001b[0m\u001b[0m\n\u001b[0m",
        "\u001b[0;32m/usr/lib/pymodules/python2.7/matplotlib/pyplot.pyc\u001b[0m in \u001b[0;36mimshow\u001b[0;34m(X, cmap, norm, aspect, interpolation, alpha, vmin, vmax, origin, extent, shape, filternorm, filterrad, imlim, resample, url, hold, **kwargs)\u001b[0m\n\u001b[1;32m   2890\u001b[0m                         \u001b[0mvmax\u001b[0m\u001b[0;34m=\u001b[0m\u001b[0mvmax\u001b[0m\u001b[0;34m,\u001b[0m \u001b[0morigin\u001b[0m\u001b[0;34m=\u001b[0m\u001b[0morigin\u001b[0m\u001b[0;34m,\u001b[0m \u001b[0mextent\u001b[0m\u001b[0;34m=\u001b[0m\u001b[0mextent\u001b[0m\u001b[0;34m,\u001b[0m \u001b[0mshape\u001b[0m\u001b[0;34m=\u001b[0m\u001b[0mshape\u001b[0m\u001b[0;34m,\u001b[0m\u001b[0;34m\u001b[0m\u001b[0m\n\u001b[1;32m   2891\u001b[0m                         \u001b[0mfilternorm\u001b[0m\u001b[0;34m=\u001b[0m\u001b[0mfilternorm\u001b[0m\u001b[0;34m,\u001b[0m \u001b[0mfilterrad\u001b[0m\u001b[0;34m=\u001b[0m\u001b[0mfilterrad\u001b[0m\u001b[0;34m,\u001b[0m\u001b[0;34m\u001b[0m\u001b[0m\n\u001b[0;32m-> 2892\u001b[0;31m                         imlim=imlim, resample=resample, url=url, **kwargs)\n\u001b[0m\u001b[1;32m   2893\u001b[0m         \u001b[0mdraw_if_interactive\u001b[0m\u001b[0;34m(\u001b[0m\u001b[0;34m)\u001b[0m\u001b[0;34m\u001b[0m\u001b[0m\n\u001b[1;32m   2894\u001b[0m     \u001b[0;32mfinally\u001b[0m\u001b[0;34m:\u001b[0m\u001b[0;34m\u001b[0m\u001b[0m\n",
        "\u001b[0;32m/usr/lib/pymodules/python2.7/matplotlib/axes.pyc\u001b[0m in \u001b[0;36mimshow\u001b[0;34m(self, X, cmap, norm, aspect, interpolation, alpha, vmin, vmax, origin, extent, shape, filternorm, filterrad, imlim, resample, url, **kwargs)\u001b[0m\n\u001b[1;32m   7298\u001b[0m                        filterrad=filterrad, resample=resample, **kwargs)\n\u001b[1;32m   7299\u001b[0m \u001b[0;34m\u001b[0m\u001b[0m\n\u001b[0;32m-> 7300\u001b[0;31m         \u001b[0mim\u001b[0m\u001b[0;34m.\u001b[0m\u001b[0mset_data\u001b[0m\u001b[0;34m(\u001b[0m\u001b[0mX\u001b[0m\u001b[0;34m)\u001b[0m\u001b[0;34m\u001b[0m\u001b[0m\n\u001b[0m\u001b[1;32m   7301\u001b[0m         \u001b[0mim\u001b[0m\u001b[0;34m.\u001b[0m\u001b[0mset_alpha\u001b[0m\u001b[0;34m(\u001b[0m\u001b[0malpha\u001b[0m\u001b[0;34m)\u001b[0m\u001b[0;34m\u001b[0m\u001b[0m\n\u001b[1;32m   7302\u001b[0m         \u001b[0mself\u001b[0m\u001b[0;34m.\u001b[0m\u001b[0m_set_artist_props\u001b[0m\u001b[0;34m(\u001b[0m\u001b[0mim\u001b[0m\u001b[0;34m)\u001b[0m\u001b[0;34m\u001b[0m\u001b[0m\n",
        "\u001b[0;32m/usr/lib/pymodules/python2.7/matplotlib/image.pyc\u001b[0m in \u001b[0;36mset_data\u001b[0;34m(self, A)\u001b[0m\n\u001b[1;32m    427\u001b[0m         if (self._A.ndim not in (2, 3) or\n\u001b[1;32m    428\u001b[0m             (self._A.ndim == 3 and self._A.shape[-1] not in (3, 4))):\n\u001b[0;32m--> 429\u001b[0;31m             \u001b[0;32mraise\u001b[0m \u001b[0mTypeError\u001b[0m\u001b[0;34m(\u001b[0m\u001b[0;34m\"Invalid dimensions for image data\"\u001b[0m\u001b[0;34m)\u001b[0m\u001b[0;34m\u001b[0m\u001b[0m\n\u001b[0m\u001b[1;32m    430\u001b[0m \u001b[0;34m\u001b[0m\u001b[0m\n\u001b[1;32m    431\u001b[0m         \u001b[0mself\u001b[0m\u001b[0;34m.\u001b[0m\u001b[0m_imcache\u001b[0m \u001b[0;34m=\u001b[0m \u001b[0mNone\u001b[0m\u001b[0;34m\u001b[0m\u001b[0m\n",
        "\u001b[0;31mTypeError\u001b[0m: Invalid dimensions for image data"
       ]
      }
     ],
     "prompt_number": 10
    },
    {
     "cell_type": "code",
     "collapsed": false,
     "input": [
      "from numpy.fft import *"
     ],
     "language": "python",
     "metadata": {},
     "outputs": [],
     "prompt_number": 11
    },
    {
     "cell_type": "code",
     "collapsed": false,
     "input": [
      "close('all')"
     ],
     "language": "python",
     "metadata": {},
     "outputs": [],
     "prompt_number": 12
    },
    {
     "cell_type": "code",
     "collapsed": false,
     "input": [
      "M=10000\n",
      "t=linspace(0,2*pi*2*M/(2*M+1),2*M+1)\n",
      "f=cos(3*t)/(2+sin(4*t)**4)\n",
      "figure(1,[20.5,8.5])\n",
      "subplot(2,2,1),plot(t,f),grid(True)\n",
      "title(u'Funcion f')"
     ],
     "language": "python",
     "metadata": {},
     "outputs": [
      {
       "metadata": {},
       "output_type": "pyout",
       "prompt_number": 13,
       "text": [
        "<matplotlib.text.Text at 0x7f4e5e10a1d0>"
       ]
      }
     ],
     "prompt_number": 13
    },
    {
     "cell_type": "code",
     "collapsed": false,
     "input": [
      "F=1/(2*M+1)*fft(f)"
     ],
     "language": "python",
     "metadata": {},
     "outputs": [],
     "prompt_number": 14
    },
    {
     "cell_type": "code",
     "collapsed": false,
     "input": [
      "subplot(2,2,2), plot(abs(F),color='red',linewidth=4), grid(True)\n",
      "title('Coeficientes de Fourier, en valor absoluto,\\n en el orden 0,1,...,10000,-10000,...-1')"
     ],
     "language": "python",
     "metadata": {},
     "outputs": [
      {
       "metadata": {},
       "output_type": "pyout",
       "prompt_number": 15,
       "text": [
        "<matplotlib.text.Text at 0x7f4e5e017550>"
       ]
      }
     ],
     "prompt_number": 15
    },
    {
     "cell_type": "code",
     "collapsed": false,
     "input": [
      "FF=concatenate((F[M+1:2*M+1], F[0:M+1]))"
     ],
     "language": "python",
     "metadata": {},
     "outputs": [],
     "prompt_number": 7
    },
    {
     "cell_type": "code",
     "collapsed": false,
     "input": [
      "s=linspace(-10000,10000,20001)"
     ],
     "language": "python",
     "metadata": {},
     "outputs": [],
     "prompt_number": 16
    },
    {
     "cell_type": "code",
     "collapsed": false,
     "input": [
      "subplot(2,2,3), plot(s,abs(FF),color='red',linewidth=2), grid(True)\n",
      "title('Coeficientes de Fourier, en valor absoluto,\\n en el orden -10000,...,10000')"
     ],
     "language": "python",
     "metadata": {},
     "outputs": [
      {
       "metadata": {},
       "output_type": "pyout",
       "prompt_number": 17,
       "text": [
        "<matplotlib.text.Text at 0x7f4e5e100d50>"
       ]
      }
     ],
     "prompt_number": 17
    },
    {
     "cell_type": "code",
     "collapsed": false,
     "input": [
      "Y=F[0:21]"
     ],
     "language": "python",
     "metadata": {},
     "outputs": [],
     "prompt_number": 18
    },
    {
     "cell_type": "code",
     "collapsed": false,
     "input": [
      "subplot(2,2,4), plot(abs(Y),'o'), grid(True)\n",
      "title('Coeficientes de Fourier, en valor absoluto, desde orden 0 hasta 20')\n",
      "figure(1).tight_layout(h_pad=1)"
     ],
     "language": "python",
     "metadata": {},
     "outputs": [],
     "prompt_number": 19
    },
    {
     "cell_type": "code",
     "collapsed": false,
     "input": [
      "# Problema 2"
     ],
     "language": "python",
     "metadata": {},
     "outputs": [],
     "prompt_number": 58
    },
    {
     "cell_type": "code",
     "collapsed": false,
     "input": [
      "M=1000"
     ],
     "language": "python",
     "metadata": {},
     "outputs": [],
     "prompt_number": 59
    },
    {
     "cell_type": "code",
     "collapsed": false,
     "input": [
      "t=linspace(-M/(2*M+1),M/(2*M+1),2*M+1)"
     ],
     "language": "python",
     "metadata": {},
     "outputs": [],
     "prompt_number": 60
    },
    {
     "cell_type": "code",
     "collapsed": false,
     "input": [
      "x=t**3"
     ],
     "language": "python",
     "metadata": {},
     "outputs": [],
     "prompt_number": 61
    },
    {
     "cell_type": "code",
     "collapsed": false,
     "input": [
      "x1=concatenate((x[M:2*M+1], x[0:M]))"
     ],
     "language": "python",
     "metadata": {},
     "outputs": [],
     "prompt_number": 62
    },
    {
     "cell_type": "code",
     "collapsed": false,
     "input": [
      "X1=1/(2*M+1)*fft(x1)"
     ],
     "language": "python",
     "metadata": {},
     "outputs": [],
     "prompt_number": 63
    },
    {
     "cell_type": "code",
     "collapsed": false,
     "input": [
      "X=1/(2*M+1)*fft(x)\n",
      "print max(abs(X)-abs(X1))\n",
      "print min(abs(X)-abs(X1))"
     ],
     "language": "python",
     "metadata": {},
     "outputs": [
      {
       "output_type": "stream",
       "stream": "stdout",
       "text": [
        "5.72458747072e-17\n",
        "-5.48606299278e-17\n"
       ]
      }
     ],
     "prompt_number": 64
    },
    {
     "cell_type": "code",
     "collapsed": false,
     "input": [
      "# Problema 3"
     ],
     "language": "python",
     "metadata": {},
     "outputs": [],
     "prompt_number": 64
    },
    {
     "cell_type": "code",
     "collapsed": false,
     "input": [
      "N=2**20\n",
      "M=N/2"
     ],
     "language": "python",
     "metadata": {},
     "outputs": [],
     "prompt_number": 65
    },
    {
     "cell_type": "code",
     "collapsed": false,
     "input": [
      "t=linspace(0, (N-1)/N, N)"
     ],
     "language": "python",
     "metadata": {},
     "outputs": [],
     "prompt_number": 66
    },
    {
     "cell_type": "code",
     "collapsed": false,
     "input": [
      "x=t*(t-1)"
     ],
     "language": "python",
     "metadata": {},
     "outputs": [],
     "prompt_number": 67
    },
    {
     "cell_type": "code",
     "collapsed": false,
     "input": [
      "X=1/N*fft(x)"
     ],
     "language": "python",
     "metadata": {},
     "outputs": [],
     "prompt_number": 68
    },
    {
     "cell_type": "code",
     "collapsed": false,
     "input": [
      "coefaprox=concatenate((X[M+1:N], X[0:M+1]))"
     ],
     "language": "python",
     "metadata": {},
     "outputs": [],
     "prompt_number": 69
    },
    {
     "cell_type": "code",
     "collapsed": false,
     "input": [
      "n=linspace(-M+1, M, N)"
     ],
     "language": "python",
     "metadata": {},
     "outputs": [],
     "prompt_number": 70
    },
    {
     "cell_type": "code",
     "collapsed": false,
     "input": [
      "coefexact=1/(2*pi**2*n**2)"
     ],
     "language": "python",
     "metadata": {},
     "outputs": [
      {
       "output_type": "stream",
       "stream": "stderr",
       "text": [
        "-c:1: RuntimeWarning: divide by zero encountered in true_divide\n"
       ]
      }
     ],
     "prompt_number": 71
    },
    {
     "cell_type": "code",
     "collapsed": false,
     "input": [
      "coefexact[M-1]=-1/6"
     ],
     "language": "python",
     "metadata": {},
     "outputs": [],
     "prompt_number": 72
    },
    {
     "cell_type": "code",
     "collapsed": false,
     "input": [
      "print max(abs(coefaprox-coefexact))\n",
      "%time 1/N*fft(x)"
     ],
     "language": "python",
     "metadata": {},
     "outputs": [
      {
       "output_type": "stream",
       "stream": "stdout",
       "text": [
        "2.70445191486e-13\n",
        "CPU times: user 63.8 ms, sys: 0 ns, total: 63.8 ms"
       ]
      },
      {
       "output_type": "stream",
       "stream": "stdout",
       "text": [
        "\n",
        "Wall time: 62.9 ms\n"
       ]
      },
      {
       "metadata": {},
       "output_type": "pyout",
       "prompt_number": 75,
       "text": [
        "array([-0.+0.j,  0.+0.j,  0.+0.j, ...,  0.+0.j,  0.+0.j,  0.+0.j])"
       ]
      }
     ],
     "prompt_number": 75
    },
    {
     "cell_type": "code",
     "collapsed": false,
     "input": [
      "# Problema 4"
     ],
     "language": "python",
     "metadata": {},
     "outputs": [],
     "prompt_number": 76
    },
    {
     "cell_type": "code",
     "collapsed": false,
     "input": [
      "close('all')\n",
      "M=5\n",
      "t=linspace(0,2*M/(2*M+1), 2*M+1)"
     ],
     "language": "python",
     "metadata": {},
     "outputs": [],
     "prompt_number": 78
    },
    {
     "cell_type": "code",
     "collapsed": false,
     "input": [
      "f=sin(2*pi*t)+0.3*cos(4*pi*t)+0.8*sin(10*pi*t)"
     ],
     "language": "python",
     "metadata": {},
     "outputs": [],
     "prompt_number": 79
    },
    {
     "cell_type": "code",
     "collapsed": false,
     "input": [
      "figure(1,[20.5,6])\n",
      "subplot(1,2,1), plot(t,f,'o'),grid(True)\n",
      "title('Datos iniciales')\n",
      "F=fft(f)/(2*M+1)"
     ],
     "language": "python",
     "metadata": {},
     "outputs": [],
     "prompt_number": 81
    },
    {
     "cell_type": "code",
     "collapsed": false,
     "input": [
      "print F"
     ],
     "language": "python",
     "metadata": {},
     "outputs": [
      {
       "output_type": "stream",
       "stream": "stdout",
       "text": [
        "[  3.83531590e-16 +0.00000000e+00j   1.86719327e-16 -5.00000000e-01j\n",
        "   1.50000000e-01 +1.61486985e-16j  -4.39042742e-16 +1.81672859e-16j\n",
        "   4.79414488e-17 -4.03717464e-16j  -1.36254644e-16 -4.00000000e-01j\n",
        "  -1.36254644e-16 +4.00000000e-01j   4.79414488e-17 +4.03717464e-16j\n",
        "  -4.39042742e-16 -1.81672859e-16j   1.50000000e-01 -1.61486985e-16j\n",
        "   1.86719327e-16 +5.00000000e-01j]\n"
       ]
      }
     ],
     "prompt_number": 82
    },
    {
     "cell_type": "code",
     "collapsed": false,
     "input": [
      "G=concatenate((F[0:M+1], zeros(10000), F[M+1:2*M+1]))\n",
      "g=ifft(G)*(10000+2*M+1)\n",
      "s=linspace(0,(10000+2*M)/(10000+2*M+1),10000+2*M+1)\n",
      "subplot(1,2,2),plot(t,f,'o',s,real(g)),grid(True)\n",
      "title(u'Grafica de la unica se\u00f1al que pasa por esos datos')"
     ],
     "language": "python",
     "metadata": {},
     "outputs": [
      {
       "metadata": {},
       "output_type": "pyout",
       "prompt_number": 85,
       "text": [
        "<matplotlib.text.Text at 0x7f13533c9b10>"
       ]
      }
     ],
     "prompt_number": 85
    },
    {
     "cell_type": "code",
     "collapsed": false,
     "input": [
      "h=sin(2*pi*s)+0.3*cos(2*pi*2*s)+0.8*sin(2*pi*5*s)"
     ],
     "language": "python",
     "metadata": {},
     "outputs": [],
     "prompt_number": 86
    },
    {
     "cell_type": "code",
     "collapsed": false,
     "input": [
      "print max(abs(real(g)-h))"
     ],
     "language": "python",
     "metadata": {},
     "outputs": [
      {
       "output_type": "stream",
       "stream": "stdout",
       "text": [
        "1.01030295241e-14\n"
       ]
      }
     ],
     "prompt_number": 87
    },
    {
     "cell_type": "code",
     "collapsed": false,
     "input": [
      "# Problema 5.a\n",
      "close('all')\n",
      "figure(1,[20.5,6])\n",
      "N=2**15\n",
      "t=linspace(0,2*pi*(N-1)/N,N)\n",
      "x=t**2*(4*pi**2-t**2)*sin(t**2)\n",
      "X=1/N*fft(x)\n",
      "m=10\n",
      "Y=concatenate((X[0:m+1],zeros(N-(2*m+1)),X[N-m:N]))\n",
      "S10=real(N*ifft(Y))\n",
      "subplot(2,2,1), plot(t,x,'blue',t,S10,'red'),grid(True)\n",
      "title(u'La funcion y la suma parcial de orden 10')"
     ],
     "language": "python",
     "metadata": {},
     "outputs": [
      {
       "metadata": {},
       "output_type": "pyout",
       "prompt_number": 91,
       "text": [
        "<matplotlib.text.Text at 0x7f13533099d0>"
       ]
      }
     ],
     "prompt_number": 91
    },
    {
     "cell_type": "code",
     "collapsed": false,
     "input": [
      "# Problema 5.b\n",
      "close('all')\n",
      "figure(1,[20.5,6])\n",
      "N=2**15\n",
      "t=linspace(0,2*pi*(N-1)/N,N)\n",
      "x=t**2*(4*pi**2-t**2)*sin(t**2)\n",
      "X=1/N*fft(x)\n",
      "m=20\n",
      "Y=concatenate((X[0:m+1],zeros(N-(2*m+1)),X[N-m:N]))\n",
      "S20=real(N*ifft(Y))\n",
      "subplot(2,2,2), plot(t,x,'blue',t,S20,'red'),grid(True)\n",
      "title(u'La funcion y la suma parcial de orden 20')\n",
      "# Problema 5.c\n",
      "close('all')\n",
      "figure(1,[20.5,6])\n",
      "N=2**15\n",
      "t=linspace(0,2*pi*(N-1)/N,N)\n",
      "x=t**2*(4*pi**2-t**2)*sin(t**2)\n",
      "X=1/N*fft(x)\n",
      "m=50\n",
      "Y=concatenate((X[0:m+1],zeros(N-(2*m+1)),X[N-m:N]))\n",
      "S50=real(N*ifft(Y))\n",
      "subplot(2,2,4), plot(t,x,'blue',t,S50,'red'),grid(True)\n",
      "title(u'La funcion y la suma parcial de orden 50')\n",
      "\n",
      "h=4100\n",
      "dt=t[0:h]\n",
      "dx=x[0:h]\n",
      "dS=S50[0:h]\n",
      "subplot(2,2,4), plot(dt,dx,'blue',dt,dS,'red'), grid(True)\n",
      "title(u'Detalle de la funcion y la suma parcial de 50')"
     ],
     "language": "python",
     "metadata": {},
     "outputs": [
      {
       "metadata": {},
       "output_type": "pyout",
       "prompt_number": 93,
       "text": [
        "<matplotlib.text.Text at 0x7f1350dbee50>"
       ]
      }
     ],
     "prompt_number": 93
    },
    {
     "cell_type": "code",
     "collapsed": false,
     "input": [
      "# Problema 6.a\n",
      "close('all')\n",
      "figure(1,[20.5,8])\n",
      "N=2**15\n",
      "t=linspace(0,2*pi*(N-1)/N,N)\n",
      "x=concatenate((ones(N/2), zeros(N/2)))\n",
      "X=1/N*fft(x)\n",
      "m=10\n",
      "Y=concatenate((X[0:m+1], zeros(N-(2*m+1)), X[N-m:N]))\n",
      "S10=real(N*ifft(Y))\n",
      "subplot(2,2,1), plot(t,x,t,S10), grid(True)\n",
      "title('Suma parcial de orden 10 de la serie de Fourier')"
     ],
     "language": "python",
     "metadata": {},
     "outputs": [
      {
       "metadata": {},
       "output_type": "pyout",
       "prompt_number": 98,
       "text": [
        "<matplotlib.text.Text at 0x7f1350ed4450>"
       ]
      }
     ],
     "prompt_number": 98
    },
    {
     "cell_type": "code",
     "collapsed": false,
     "input": [
      "# Problema 6.b\n",
      "m=100\n",
      "Y=concatenate((X[0:m+1], zeros(N-(2*m+1)), X[N-m:N]))\n",
      "S100=real(N*ifft(Y))\n",
      "subplot(2,2,2), plot(t,x,t,S100), grid(True)\n",
      "title('Suma parcial de orden 100 de la serie de Fourier')"
     ],
     "language": "python",
     "metadata": {},
     "outputs": [
      {
       "metadata": {},
       "output_type": "pyout",
       "prompt_number": 99,
       "text": [
        "<matplotlib.text.Text at 0x7f1350b13f90>"
       ]
      }
     ],
     "prompt_number": 99
    },
    {
     "cell_type": "code",
     "collapsed": false,
     "input": [
      "sqrt(complex(-1))\n"
     ],
     "language": "python",
     "metadata": {},
     "outputs": [
      {
       "metadata": {},
       "output_type": "pyout",
       "prompt_number": 20,
       "text": [
        "1j"
       ]
      }
     ],
     "prompt_number": 20
    },
    {
     "cell_type": "code",
     "collapsed": false,
     "input": [],
     "language": "python",
     "metadata": {},
     "outputs": []
    }
   ],
   "metadata": {}
  }
 ]
}