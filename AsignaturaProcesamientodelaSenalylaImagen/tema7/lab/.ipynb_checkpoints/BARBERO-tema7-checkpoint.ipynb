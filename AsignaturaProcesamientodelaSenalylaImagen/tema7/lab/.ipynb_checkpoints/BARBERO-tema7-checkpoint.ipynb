{
 "metadata": {
  "name": "",
  "signature": "sha256:e84f14a24110c160e96b5e654afe6975b670428ae030eb8ca22e6be061afcb67"
 },
 "nbformat": 3,
 "nbformat_minor": 0,
 "worksheets": []
}