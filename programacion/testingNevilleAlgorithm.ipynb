{
 "cells": [
  {
   "cell_type": "markdown",
   "metadata": {},
   "source": [
    "# Testing NE"
   ]
  },
  {
   "cell_type": "code",
   "execution_count": 3,
   "metadata": {
    "collapsed": true
   },
   "outputs": [],
   "source": [
    "import numpy as np"
   ]
  },
  {
   "cell_type": "code",
   "execution_count": 6,
   "metadata": {
    "collapsed": false
   },
   "outputs": [],
   "source": [
    "def neville(A, n):\n",
    "    print A\n",
    "    for k in np.arange(0,n):\n",
    "        for i in np.arange(n-1,k,-1):\n",
    "            if A[i-1][k] == 0:\n",
    "                A[i][k] = A[i][k]\n",
    "            else:\n",
    "                A[i][k]=A[i][k]/A[i-1][k]\n",
    "            for j in np.arange(k+1,n):\n",
    "                A[i][j]=A[i][j]-A[i][k]*A[i-1][j]\n",
    "                print A\n",
    "                \n",
    "    return A"
   ]
  },
  {
   "cell_type": "code",
   "execution_count": 9,
   "metadata": {
    "collapsed": false
   },
   "outputs": [],
   "source": [
    "def gauss(A, n):\n",
    "    for i in np.arange(0,n+1):\n",
    "        for k in np.arange(i, n):\n",
    "            A[k][i] = A[k][i]/A[i][i]\n",
    "        for j in np.arange(i, n):\n",
    "            A[j][i] = A[j][i] - A[j][i]*A[i][j]\n",
    "        print A\n",
    "            \n",
    "    return A"
   ]
  },
  {
   "cell_type": "code",
   "execution_count": 10,
   "metadata": {
    "collapsed": false
   },
   "outputs": [
    {
     "name": "stdout",
     "output_type": "stream",
     "text": [
      "[[1, 2, 3], [1, 3, 5], [1, 4, 6]]\n",
      "[[1, 2, 3], [1, 3, 5], [1, 1, 6]]\n",
      "[[1, 2, 3], [1, 3, 5], [1, 1, 1]]\n",
      "[[1, 2, 3], [1, 1, 5], [1, 1, 1]]\n",
      "[[1, 2, 3], [1, 1, 2], [1, 1, 1]]\n",
      "[[1, 2, 3], [1, 1, 2], [1, 1, -1]]\n",
      "[[0, 8, 7], [-42, 5, 4], [-18, 2, 1]]\n",
      "[[0, 8, 7], [-42, 0, 4], [-18, -6, 1]]\n",
      "[[0, 8, 7], [-42, 0, 4], [-18, -6, 0]]\n",
      "[[0, 8, 7], [-42, 0, 4], [-18, -6, 0]]\n"
     ]
    },
    {
     "data": {
      "text/plain": [
       "[[0, 8, 7], [-42, 0, 4], [-18, -6, 0]]"
      ]
     },
     "execution_count": 10,
     "metadata": {},
     "output_type": "execute_result"
    }
   ],
   "source": [
    "A=[[1,2,3],[1,3,5],[1,4,6]]\n",
    "neville(A, 3)\n",
    "B=[[9,8,7],[6,5,4],[3,2,1]]\n",
    "gauss(B,3)"
   ]
  },
  {
   "cell_type": "code",
   "execution_count": null,
   "metadata": {
    "collapsed": true
   },
   "outputs": [],
   "source": []
  },
  {
   "cell_type": "code",
   "execution_count": null,
   "metadata": {
    "collapsed": true
   },
   "outputs": [],
   "source": []
  }
 ],
 "metadata": {
  "kernelspec": {
   "display_name": "Python 2",
   "language": "python",
   "name": "python2"
  },
  "language_info": {
   "codemirror_mode": {
    "name": "ipython",
    "version": 2
   },
   "file_extension": ".py",
   "mimetype": "text/x-python",
   "name": "python",
   "nbconvert_exporter": "python",
   "pygments_lexer": "ipython2",
   "version": "2.7.8"
  }
 },
 "nbformat": 4,
 "nbformat_minor": 0
}
