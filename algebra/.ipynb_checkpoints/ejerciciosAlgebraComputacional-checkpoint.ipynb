{
 "metadata": {
  "name": "",
  "signature": "sha256:016369fc53de447d1b0fa9609b07dfb54520440a47cd9234921d75740ec717f8"
 },
 "nbformat": 3,
 "nbformat_minor": 0,
 "worksheets": [
  {
   "cells": [
    {
     "cell_type": "markdown",
     "metadata": {},
     "source": [
      "# BARBERO IRIARTE, PILAR: EJERCICIOS \u00c1LGEBRA COMPUTACIONAL"
     ]
    },
    {
     "cell_type": "markdown",
     "metadata": {},
     "source": [
      "## Ejercicio 1\n",
      "Determina usando t\u00e9cnicas de bases de Groebner si los siguientes ideales son iguales:\n",
      "\n",
      "- $ I : = < y^3 - z^2, xz - y^2, xy - z, x^2 -y > $\n",
      "\n",
      "- $ J := < xy - z^2, xz - y^2, xy - z, x^2 - y > $\n",
      "\n",
      "- $ K := < xz - y^2, x + y^2 -z - 1, xyz - 1 > $\n",
      "\n",
      "- $ L := < y^2 - x^2y, z -xy, y - x^2 >$\n",
      "\n",
      "Puedes ayudarte del ordenador."
     ]
    },
    {
     "cell_type": "markdown",
     "metadata": {},
     "source": [
      "**Respuesta:**"
     ]
    },
    {
     "cell_type": "markdown",
     "metadata": {},
     "source": [
      "Por teor\u00eda, sabemos que dos ideales son iguales si y s\u00f3lo si tienen la misma base de Groebner reducida. Vamos a utilizar el paquete _sympy_ que nos proporcina un conjunto de \u00f3rdenes \u00fatiles a la hora de calcular bases de Groeber."
     ]
    },
    {
     "cell_type": "code",
     "collapsed": false,
     "input": [
      "from sympy import groebner\n",
      "from sympy.abc import x,y,z # c\u00e1lculo simb\u00f3lico"
     ],
     "language": "python",
     "metadata": {},
     "outputs": [],
     "prompt_number": 1
    },
    {
     "cell_type": "code",
     "collapsed": false,
     "input": [
      "i1 = y**3  - z**2\n",
      "i2 = x*z - y**2\n",
      "i3 = x*y - z\n",
      "i4 = x**2 - y"
     ],
     "language": "python",
     "metadata": {},
     "outputs": [],
     "prompt_number": 13
    },
    {
     "cell_type": "code",
     "collapsed": false,
     "input": [
      "j1 = x*y - z**2\n",
      "j2 = x*z - y**2\n",
      "j3 = x*y - z\n",
      "j4 = x**2 - y"
     ],
     "language": "python",
     "metadata": {},
     "outputs": [],
     "prompt_number": 14
    },
    {
     "cell_type": "code",
     "collapsed": false,
     "input": [
      "k1 = x*z -y**2 \n",
      "k2 = x+y**2 - z - 1\n",
      "k3 = x*y*z - 1"
     ],
     "language": "python",
     "metadata": {},
     "outputs": [],
     "prompt_number": 15
    },
    {
     "cell_type": "code",
     "collapsed": false,
     "input": [
      "l1 = y**2 - (x**2)*y\n",
      "l2 = z- x*y\n",
      "l3 = y - x**2"
     ],
     "language": "python",
     "metadata": {},
     "outputs": [],
     "prompt_number": 16
    },
    {
     "cell_type": "code",
     "collapsed": false,
     "input": [
      "GI = groebner([i1, i2, i3, i4])\n",
      "GJ = groebner([j1, j2, j3, j4])\n",
      "GK = groebner([k1, k2, k3])\n",
      "GL = groebner([l1, l2, l3])"
     ],
     "language": "python",
     "metadata": {},
     "outputs": [],
     "prompt_number": 17
    },
    {
     "cell_type": "code",
     "collapsed": false,
     "input": [
      "print GI\n",
      "print GJ\n",
      "print GK\n",
      "print GL"
     ],
     "language": "python",
     "metadata": {},
     "outputs": [
      {
       "output_type": "stream",
       "stream": "stdout",
       "text": [
        "GroebnerBasis([x**2 - y, x*y - z, x*z - y**2, y**3 - z**2], x, y, z, domain='ZZ', order='lex')\n",
        "GroebnerBasis([x**2 - y, x*y - z, x*z - y**2, y**3 - z, y**2*z - y**2, z**2 - z], x, y, z, domain='ZZ', order='lex')\n",
        "GroebnerBasis([x + y**2 - z - 1, y**3 - 1, y*z + y - z**3 - z**2, z**4 + z**3 - z - 1], x, y, z, domain='ZZ', order='lex')\n",
        "GroebnerBasis([x**2 - y, x*y - z, x*z - y**2, y**3 - z**2], x, y, z, domain='ZZ', order='lex')\n"
       ]
      }
     ],
     "prompt_number": 18
    },
    {
     "cell_type": "code",
     "collapsed": false,
     "input": [
      "GI == GL"
     ],
     "language": "python",
     "metadata": {},
     "outputs": [
      {
       "metadata": {},
       "output_type": "pyout",
       "prompt_number": 33,
       "text": [
        "True"
       ]
      }
     ],
     "prompt_number": 33
    },
    {
     "cell_type": "markdown",
     "metadata": {},
     "source": [
      "Podemos comprobar que el ideal $I$ y el ideal $L$ poseen la misma base de Groebner reducida, por lo que son iguales."
     ]
    },
    {
     "cell_type": "code",
     "collapsed": false,
     "input": [],
     "language": "python",
     "metadata": {},
     "outputs": []
    },
    {
     "cell_type": "markdown",
     "metadata": {},
     "source": [
      "## Ejercicio 2\n",
      "Calcula, sin usar el ordenador, mediante el algoritmo de Buchberger una base reducida del ideal $ I = <xy + z, x^2 + y^2 >$. Determina tambi\u00e9n sin usar el ordenador si la clase $[x + 1]$ es invertible en $k[x,y,z]/I$"
     ]
    },
    {
     "cell_type": "markdown",
     "metadata": {},
     "source": [
      "**Respuesta:**"
     ]
    },
    {
     "cell_type": "markdown",
     "metadata": {},
     "source": [
      "Defininimos $f_1 := xy + z$ y $f_2 := x^2 + y^2$.\n",
      "\n",
      "Vamos a aplicar el algoritmo de Buchberger a partir de $\\{f_1, f_2\\}$. Fijamos el orden $x > y > z$. Comenzamos con la base de Groebner $G':=\\{f_1, f_2\\}$ y comprobaremos si los $S-\\text{polinomios}$ son reducibles hasta 0. \n",
      "\n",
      "$$ S(f_1, f_2) = \\frac{x^2 y}{xy} f_1 - \\frac{x^2 y}{x^2} f_2 = x(xy + z) - y(x^2+y^2) = xz - y^3$$\n",
      "\n",
      "Este polinomio ya no es reducible por $G'$, as\u00ed que lo a\u00f1adimos a la base $G:=\\{f_1, f_2, xz - y^3\\}$\n",
      "\n",
      "Ahora $S(f_1, f_2)$ s\u00ed que es reducible a 0, ya que hemos a\u00f1adido $xz - y^3$ a la base, pero quedan otros $S-$polinomios que comprobar,\n",
      "\n",
      "$$S(f_1, xz - y^3) = \\frac{xyz}{xy} f_1 - \\frac{xyz}{xz} (xz - y^3) = z(xy + z) - y (xz - y^3) = y^4 + z^2 \\xrightarrow{-yf_3} xyz + z^2 \\xrightarrow{zf_1} 0$$ \n",
      "\n",
      "$$S(f_2, xz - y^3) = \\frac{x^2 z}{x^2} f_2 - \\frac{x^2 z}{xz} (xz - y^3) = z(x^2 + y^2) - x(xz - y^3) = zy^2 + xy^3 = y^2(xy + z) \\xrightarrow{f_1} 0$$ \n",
      "\n",
      "Concluimos que $G'=\\{xy + z, x^2 + y^2, xz - y^3\\}$ es una base de Groebner. "
     ]
    },
    {
     "cell_type": "code",
     "collapsed": false,
     "input": [
      "f1=x*y + z\n",
      "f2=x**2 + y**2\n",
      "G=groebner([f1,f2])\n",
      "G"
     ],
     "language": "python",
     "metadata": {},
     "outputs": [
      {
       "metadata": {},
       "output_type": "pyout",
       "prompt_number": 78,
       "text": [
        "GroebnerBasis([x**2 + y**2, x*y + z, x*z - y**3, y**4 + z**2], x, y, z, domain='ZZ', order='lex')"
       ]
      }
     ],
     "prompt_number": 78
    },
    {
     "cell_type": "code",
     "collapsed": false,
     "input": [
      "z*f1 - y(x*z - y**3)"
     ],
     "language": "python",
     "metadata": {},
     "outputs": [
      {
       "metadata": {},
       "output_type": "pyout",
       "prompt_number": 77,
       "text": [
        "z*(x*y + z) - y(x*z - y**3)"
       ]
      }
     ],
     "prompt_number": 77
    },
    {
     "cell_type": "markdown",
     "metadata": {},
     "source": [
      "## Ejercicio 3\n",
      "Calcula el abanico de Groebner del ideal $<x^2 \u2212 y^3 , x^3 \u2212 y^2 + x >$.\n"
     ]
    },
    {
     "cell_type": "code",
     "collapsed": false,
     "input": [],
     "language": "python",
     "metadata": {},
     "outputs": []
    },
    {
     "cell_type": "markdown",
     "metadata": {},
     "source": [
      "## Ejercicio 4\n",
      "\u00bfPuede escribirse $4x^4y^2 + 4y^6 - 2x^4 - 4x^2y^2 - 6y^4 + 2x^2 + 4y^2 -1$ de la forma $h(x^2 + y^2 + 1, x^2 - y^2)$ para alg\u00fan polinomio $h\\in \\mathbb{Q}[x,y]$?"
     ]
    },
    {
     "cell_type": "code",
     "collapsed": false,
     "input": [],
     "language": "python",
     "metadata": {},
     "outputs": []
    }
   ],
   "metadata": {}
  }
 ]
}