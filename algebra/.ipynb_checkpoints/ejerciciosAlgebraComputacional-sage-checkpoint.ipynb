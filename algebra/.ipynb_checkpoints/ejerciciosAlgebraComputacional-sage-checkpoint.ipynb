{
 "cells": [
  {
   "cell_type": "markdown",
   "metadata": {},
   "source": [
    "# BARBERO IRIARTE, PILAR: EJERCICIOS ÁLGEBRA COMPUTACIONAL"
   ]
  },
  {
   "cell_type": "markdown",
   "metadata": {},
   "source": [
    "# Ejercicio 1\n",
    "Determina usando técnicas de bases de Groebner si los siguientes ideales son iguales:\n",
    "\n",
    "- $ I : = < y^3 - z^2, xz - y^2, xy - z, x^2 -y > $\n",
    "\n",
    "- $ J := < xy - z^2, xz - y^2, xy - z, x^2 - y > $\n",
    "\n",
    "- $ K := < xz - y^2, x + y^2 -z - 1, xyz - 1 > $\n",
    "\n",
    "- $ L := < y^2 - x^2y, z -xy, y - x^2 >$\n",
    "\n",
    "Puedes ayudarte del ordenador."
   ]
  },
  {
   "cell_type": "markdown",
   "metadata": {},
   "source": [
    "**Respuesta:**"
   ]
  },
  {
   "cell_type": "markdown",
   "metadata": {},
   "source": [
    "Por teoría, sabemos que dos ideales son iguales si y sólo si tienen la misma base de Groebner reducida. Vamos a utilizar el paquete _sympy_ que nos proporcina un conjunto de órdenes útiles a la hora de calcular bases de Groeber."
   ]
  },
  {
   "cell_type": "code",
   "execution_count": 102,
   "metadata": {
    "collapsed": false
   },
   "outputs": [],
   "source": [
    "from sympy import groebner\n",
    "import sympy as sp\n",
    "from sympy.abc import x,y,z"
   ]
  },
  {
   "cell_type": "code",
   "execution_count": 103,
   "metadata": {
    "collapsed": false
   },
   "outputs": [],
   "source": [
    "i1 = y**3  - z**2\n",
    "i2 = x*z - y**2\n",
    "i3 = x*y - z\n",
    "i4 = x**2 - y"
   ]
  },
  {
   "cell_type": "code",
   "execution_count": 104,
   "metadata": {
    "collapsed": false
   },
   "outputs": [],
   "source": [
    "j1 = x*y - z**2\n",
    "j2 = x*z - y**2\n",
    "j3 = x*y - z\n",
    "j4 = x**2 - y"
   ]
  },
  {
   "cell_type": "code",
   "execution_count": 105,
   "metadata": {
    "collapsed": false
   },
   "outputs": [],
   "source": [
    "k1 = x*z -y**2 \n",
    "k2 = x+y**2 - z - 1\n",
    "k3 = x*y*z - 1"
   ]
  },
  {
   "cell_type": "code",
   "execution_count": 106,
   "metadata": {
    "collapsed": false
   },
   "outputs": [],
   "source": [
    "l1 = y**2 - (x**2)*y\n",
    "l2 = z- x*y\n",
    "l3 = y - x**2"
   ]
  },
  {
   "cell_type": "code",
   "execution_count": 107,
   "metadata": {
    "collapsed": false
   },
   "outputs": [],
   "source": [
    "GI = sp.groebner([i1, i2, i3, i4], x, y, z, order='lex', method='buchberger')\n",
    "GJ = sp.groebner([j1, j2, j3, j4], x, y, z, order='lex', method='buchberger')\n",
    "GK = sp.groebner([k1, k2, k3], x, y, z, order='lex', method='buchberger')\n",
    "GL = sp.groebner([l1, l2, l3], x, y, z, order='lex', method='buchberger')"
   ]
  },
  {
   "cell_type": "code",
   "execution_count": 108,
   "metadata": {
    "collapsed": false
   },
   "outputs": [
    {
     "name": "stdout",
     "output_type": "stream",
     "text": [
      "GroebnerBasis([x**2 - y, x*y - z, x*z - y**2, y**3 - z**2], x, y, z, domain='ZZ', order='lex')\n",
      "GroebnerBasis([x**2 - y, x*y - z, x*z - y**2, y**3 - z, y**2*z - y**2, z**2 - z], x, y, z, domain='ZZ', order='lex')\n",
      "GroebnerBasis([x + y**2 - z - 1, y**3 - 1, y*z + y - z**3 - z**2, z**4 + z**3 - z - 1], x, y, z, domain='ZZ', order='lex')\n",
      "GroebnerBasis([x**2 - y, x*y - z, x*z - y**2, y**3 - z**2], x, y, z, domain='ZZ', order='lex')\n"
     ]
    }
   ],
   "source": [
    "print GI\n",
    "print GJ\n",
    "print GK\n",
    "print GL"
   ]
  },
  {
   "cell_type": "code",
   "execution_count": 109,
   "metadata": {
    "collapsed": false
   },
   "outputs": [
    {
     "data": {
      "text/plain": [
       "True"
      ]
     },
     "execution_count": 109,
     "metadata": {},
     "output_type": "execute_result"
    }
   ],
   "source": [
    "GI == GL"
   ]
  },
  {
   "cell_type": "markdown",
   "metadata": {},
   "source": [
    "Podemos comprobar que el ideal $I$ y el ideal $L$ poseen la misma base de Groebner reducida, por lo que son iguales."
   ]
  },
  {
   "cell_type": "markdown",
   "metadata": {},
   "source": [
    "***"
   ]
  },
  {
   "cell_type": "markdown",
   "metadata": {},
   "source": [
    "# Ejercicio 2\n",
    "Calcula, sin usar el ordenador, mediante el algoritmo de Buchberger una base reducida del ideal $I = < xy + z, x^2 + y^2 >$."
   ]
  },
  {
   "cell_type": "markdown",
   "metadata": {},
   "source": [
    "**Respuesta:**"
   ]
  },
  {
   "cell_type": "markdown",
   "metadata": {},
   "source": [
    "Defininimos $f_1 := xy + z$ y $f_2 := x^2 + y^2$.\n",
    "\n",
    "Vamos a aplicar el algoritmo de Buchberger a partir de $\\{f_1, f_2\\}$. Fijamos el orden lex con $x > y > z$. Comenzamos con la base de Groebner $G':=\\{f_1, f_2\\}$ y comprobaremos si los $S-\\text{polinomios}$ son reducibles hasta 0. \n",
    "\n",
    "\\begin{equation} \n",
    "S(f_1, f_2) = \\frac{x^2 y}{xy} f_1 - \\frac{x^2 y}{x^2} f_2 = x(xy + z) - y(x^2+y^2) = xz - y^3\n",
    "\\end{equation}\n",
    "\n",
    "Este polinomio ya no es reducible por $G'$, así que lo añadimos a la base $G':=\\{f_1, f_2, f_3:=xz - y^3\\}$\n",
    "\n",
    "Ahora $S(f_1, f_2)$ sí que es reducible a 0, ya que hemos añadido $xz - y^3$ a la base, pero quedan otros $S-$polinomios que comprobar,\n",
    "\n",
    "\\begin{equation} \n",
    "S(f_1, xz - y^3) = \\frac{xyz}{xy} f_1 - \\frac{xyz}{xz} (xz - y^3) = z(xy + z) - y (xz - y^3) = y^4 + z^2\n",
    "\\end{equation}\n",
    "\n",
    "Este polinomio no puede ser reducible por ninguno de los demás polinomios de la base ($LT(y^4 + z^2) = y^4$ no es divisibile por ningún $LT$ de la base $G'$), así que lo añadimos.\n",
    "\n",
    "\\begin{equation} \n",
    "S(f_2, xz - y^3) = \\frac{x^2 z}{x^2} f_2 - \\frac{x^2 z}{xz} (xz - y^3) = z(x^2 + y^2) - x(xz - y^3) = zy^2 + xy^3 = y^2(xy + z) \\xrightarrow{y^2f_1} 0\n",
    "\\end{equation} \n",
    "\n",
    "Estamos en la situación de que $G'=\\{xy + z, x^2 + y^2, f_3:=xz - y^3, f_4:=y^4 + z^2\\}$ podría ser nuestra base de Groebner, pero al haber añadido el polinomio $f_4:=y^4 + z^2$, debemos comprobar los demás $S-$polinomios que nos surgen al hacer esta adición.  \n",
    "\n",
    "\\begin{equation} \n",
    "S(f_1,f_4) = \\frac{xy^4}{xy} (xy+z) - \\frac{xy^4}{y^4} (y^4 + z^2) = y^3(xy+z) - x(y^4+z^2) = -xz^2 + y^3z \\xrightarrow{zf_3} 0  \n",
    "\\end{equation} \n",
    "\n",
    "\\begin{equation} \n",
    "S(f_2, f_4) = \\frac{x^2y^4}{x^2} (x^2+y^2) - \\frac{x^2y^4}{y^4} (y^4+z^2) = y^4(x^2+y^2) - x^2(y^4+z^2) = -x^2z^2 + y^6 \\xrightarrow{-xz f_3} -xy^3z+y^6 \\xrightarrow{-y^2zf_1} y^6+y^2z^2 \\xrightarrow{y^2f_4} 0\n",
    "\\end{equation} \n",
    "\n",
    "\\begin{equation} \n",
    "S(f_3, f_4) = \\frac{xy^4z}{xz} (xz-y^3) - \\frac{xy^4z}{y^4} (y^4+z^2) = y^4(xz-y^3) - xz(y^4+z^2) = -xz^3-y^7 \\xrightarrow{-z^2 f_3} -y^7 - z^2y^3 \\xrightarrow{-y^3f_4} 0\n",
    "\\end{equation} \n",
    "\n",
    "Podemos concluir que $G:=\\{f_1:=xy + z, f_2:=x^2 + y^2, f_3:=xz - y^3, f_4:=y^4 + z^2\\}$ es una base de Groebner.\n",
    "\n",
    "Es reducida, ya que $\\forall g\\in G$, $LC(g) = 1$ y además, $LT(g)$ no es dividido por ningún otro $LT(g')$ con $g' \\in G \\setminus \\{g\\}$"
   ]
  },
  {
   "cell_type": "markdown",
   "metadata": {},
   "source": [
    "Podemos comprobarlo gracias a la función _groebner_ que nos proporciona el paquete de funciones _Sympy_."
   ]
  },
  {
   "cell_type": "code",
   "execution_count": 110,
   "metadata": {
    "collapsed": false
   },
   "outputs": [
    {
     "data": {
      "text/plain": [
       "GroebnerBasis([x**2 + y**2, x*y + z, x*z - y**3, y**4 + z**2], x, y, z, domain='ZZ', order='lex')"
      ]
     },
     "execution_count": 110,
     "metadata": {},
     "output_type": "execute_result"
    }
   ],
   "source": [
    "f1=x*y + z\n",
    "f2=x**2 + y**2\n",
    "G=sp.groebner([f1,f2], x, y, z, order='lex', method='buchberger')\n",
    "G"
   ]
  },
  {
   "cell_type": "markdown",
   "metadata": {},
   "source": [
    "***"
   ]
  },
  {
   "cell_type": "markdown",
   "metadata": {
    "collapsed": false
   },
   "source": [
    " Determina también sin usar el ordenador si la clase $[x + 1]$ es invertible en $k[x,y,z]/I$"
   ]
  },
  {
   "cell_type": "markdown",
   "metadata": {
    "collapsed": false
   },
   "source": [
    "**Respuesta:**"
   ]
  },
  {
   "cell_type": "markdown",
   "metadata": {},
   "source": [
    "Observemos que si $[x+1]$ es invertible entonces $(x+1)f + (xy+z)g + (x^2 + y^2)h = 1$, así que vamos a calcular el ideal de $ < x+1, xy +z, x^2+y^2 > $"
   ]
  },
  {
   "cell_type": "markdown",
   "metadata": {},
   "source": [
    "Definimos $f_1:= x+1, f_2:=xy + z, f_3:=x^2+y^2$, y calculamos su correspondiente base de Groebner. Volvemos a aplicar el algoritmo de Buchberger a esta base $G':=\\{f_1, f_2, f_3\\}$. Empezamos a calcular los $S-$polinomios, "
   ]
  },
  {
   "cell_type": "markdown",
   "metadata": {},
   "source": [
    " \\begin{equation}\n",
    "    S(f_1, f_2) = S(x+1, xy+z) = \\frac{xy}{x} (x+1) - \\frac{xy}{xy} (xy + z) = y - z \\qquad \\qquad \\text{(1)}\n",
    "\\end{equation}\n",
    "\n",
    "Como $LT(y - z)$ no es divisible por ningún $LT(g)$ para $g$ polinomio en nuestra base, añadimos $f_4:=y-z$ a la base de Groebner, quedándonos así $G'= \\{f_1, f_2, f_3, f_4:=y-z\\}$. \n",
    "\n",
    "Como hemos añadido $f_4$ a la nueva base, debemos comprobar los nuevos $S-$polinomios que genera.\n",
    "\n",
    "\\begin{equation}\n",
    "    S(f_1, f_4) = S(x+1, y-z) = \\frac{xy}{x} (x+1) - \\frac{xy}{y}(y-z) = xz + y \\xrightarrow{z f_1} y - z \\xrightarrow{f_4} 0        \\qquad \\qquad \\text{(2)}\n",
    "\\end{equation}\n",
    "\n",
    "\\begin{equation}\n",
    "    S(f_2, f_4) = S(xy+z, y-z) = \\frac{xy}{xy} (xy+z)- \\frac{xy}{y} (y-z) = xz + z \\xrightarrow{z f_1} 0 \\qquad \\qquad \\qquad \\qquad \\text{(3)}\n",
    "\\end{equation}\n",
    "\n",
    "\\begin{equation}\n",
    "    S(f_3, f_4) = S(x^2+y^2, y-z) = \\frac{x^2 y}{x^2}(x^2 + y^2) - \\frac{x^2 y}{y}(y-z) = x^2z + y^3 \\xrightarrow{z f_3} y^3 - y^2z \\xrightarrow{y^2 f_4} 0 \\qquad  \\text{(4)}\n",
    "\\end{equation}"
   ]
  },
  {
   "cell_type": "markdown",
   "metadata": {},
   "source": [
    "Continuamos el proceso con los $S-$polinomios anteriores,\n",
    "\n",
    "\\begin{equation}\n",
    "    \\begin{array}{l l}\n",
    "        S(f_1, f_3)&  = S(x+1, x^2+y^2) = S(x+1, x^2 + y^2) = \\frac{x^2}{x} (x+1) - \\frac{x^2}{x^2}(x^2 + y^2) \\\\[0.2cm]\n",
    "        & = x - y^2 \\xrightarrow{f_1} -y^2 - 1 \\xrightarrow{-y f_4} -yz - 1 \\xrightarrow{-z f_4} -z^2-1 \\qquad  \\text{(5)}\n",
    "    \\end{array}\n",
    "\\end{equation}\n",
    "\n",
    "Como $LT(z^2) - 1$ no es divisible por ningún $LT(g)$ para $g$ polinomio en nuestra base, añadimos $f_5:=-z^2 - 1$ a la base $G':=\\{f_1, f_2, f_3, f_4, f_5:=-z^2 - 1\\}$. Al añadirlo, debemos comprobar los $S-$polinomios que se nos generan,\n",
    "\n",
    "\\begin{equation}\n",
    "    S(f_1, f_5) = S(x+1, -z^2-1) = \\frac{-xz^2}{x} (x+1) - \\frac{-xz^2}{-z^2}(-z^2-1) = x-z^2 \\xrightarrow{f_1} -z^2 - 1 \\xrightarrow{f_ 5} 0 \\qquad  \\text{(6)}\n",
    "\\end{equation}\n",
    "\n",
    "\\begin{equation}\n",
    "    S(f_2, f_5) = S(xy+z, -z^2-1) = \\frac{-xyz^2}{xy} (xy+z) - \\frac{-xyz^2}{-z^2}(-z^2-1) =  xy-z^3 \\xrightarrow{f_2} -z^3 - z \\xrightarrow{z f_5} 0  \\qquad  \\text{(7)}\n",
    "\\end{equation}\n",
    "\n",
    "\\begin{equation}\n",
    "    S(f_3, f_5) = S(x^2+y^2, -z^2-1) = \\frac{-x^2z^2}{x^2} (x^2+y^2) - \\frac{-x^2z^2}{-z^2}(-z^2-1) = x^2-y^2z^2 \\xrightarrow{f_3} y^2(-z^2 - 1) \\xrightarrow{f_5} 0 \\qquad  \\text{(8)}\n",
    "\\end{equation}\n",
    "\n",
    "\\begin{equation}\n",
    "    S(f_4, f_5) = S(y-z, -z^2-1) = \\frac{-yz^2}{y} (y-z) - \\frac{-yz^2}{-z^2}(-z^2-1) = y + z^3 \\xrightarrow{f_4} z^3 + z \\xrightarrow{f_5} 0 \\qquad  \\text{(9)}\n",
    "\\end{equation}"
   ]
  },
  {
   "cell_type": "markdown",
   "metadata": {},
   "source": [
    "Continuamos el proceso con la demás combinaciones que nos quedan con la base $G'=\\{f_1, f_2, f_3, f_4, f_5\\}$\n",
    "\n",
    "\\begin{equation}\n",
    "    S(f_2, f_3) = S(xy+z, x^2+y^2) = \\dots = xz - y^3 \\xrightarrow{zf_1} -y^3 - z \\xrightarrow{-y^2 f_4} -y^2z - z \\xrightarrow{-yz f_4} -z^2y - z \\xrightarrow{-z^2 f_4} -z^3 - z \\xrightarrow{z f_5} 0 \\qquad  \\text{(10)}\n",
    "\\end{equation}\n",
    "\n",
    "La base de Groebner del ideal $< x+1, xy+z, x^2+y^2 >$ es,\n",
    "\n",
    "$$G=\\{f_1=x+1, f_2=xy+z, f_3=x^2+y^2, f_4=y-z, f_5=-z^2-1\\}$$\n",
    "\n",
    "Comprobamos las dos condiciones para que sea reducida,\n",
    "\n",
    "- $\\forall g\\in G, LC(g) = 1$ así que cambiamos el signo a $f_5$.\n",
    "- $LT(f_1)=LT(x+1) = x$ divide a $LT(f_2) = LT(xy+z) = xy$ y a $LT(f_3) = LT(x^2+y^2) = x^2$, por lo que es posible expulsar a $f_2$ y $f_3$ de la base, y conseguimos la base reducida.\n",
    "\n",
    "$$ G=\\{f_1=x+1, f_4=y-z, f_5=z^2+1\\}$$"
   ]
  },
  {
   "cell_type": "code",
   "execution_count": 2,
   "metadata": {
    "collapsed": false
   },
   "outputs": [
    {
     "data": {
      "text/plain": [
       "GroebnerBasis([x + 1, y - z, z**2 + 1], x, y, z, domain='ZZ', order='lex')"
      ]
     },
     "execution_count": 2,
     "metadata": {},
     "output_type": "execute_result"
    }
   ],
   "source": [
    "f1=x+1\n",
    "f2=x*y + z\n",
    "f3=x**2 + y**2\n",
    "G=sp.groebner([f1,f2,f3], x, y, z, order='lex', method='buchberger')\n",
    "G"
   ]
  },
  {
   "cell_type": "markdown",
   "metadata": {},
   "source": [
    "***"
   ]
  },
  {
   "cell_type": "markdown",
   "metadata": {},
   "source": [
    "# Ejercicio 3\n",
    "Calcula el abanico de Groebner del ideal $< x^2 − y^3 , x^3 − y^2 + x >$.\n"
   ]
  },
  {
   "cell_type": "markdown",
   "metadata": {},
   "source": [
    "**Respuesta:**"
   ]
  },
  {
   "cell_type": "markdown",
   "metadata": {},
   "source": [
    "Calculamos primero las bases de groebner asociadas a este ideal, para cada orden distinto."
   ]
  },
  {
   "cell_type": "code",
   "execution_count": 112,
   "metadata": {
    "collapsed": false
   },
   "outputs": [
    {
     "name": "stdout",
     "output_type": "stream",
     "text": [
      "GroebnerBasis([x + y**7 + y**4 - y**2, y**9 + 2*y**6 - y**4 + y**3], x, y, domain='ZZ', order='lex')\n",
      "GroebnerBasis([-x**3 - x + y**2, x**7 + 2*x**5 + x**3 - x**2 + x*y, x**8 + 3*x**6 + 3*x**4 - x**3 + x**2], y, x, domain='ZZ', order='lex')\n",
      "GroebnerBasis([x**3 - y**2 + x, y**3 - x**2], x, y, domain='ZZ', order='grevlex')\n",
      "GroebnerBasis([y**3 - x**2, x**3 - y**2 + x], y, x, domain='ZZ', order='grevlex')\n",
      "GroebnerBasis([x**3 - y**2 + x, y**3 - x**2], x, y, domain='ZZ', order='grlex')\n",
      "GroebnerBasis([y**3 - x**2, x**3 - y**2 + x], y, x, domain='ZZ', order='grlex')\n"
     ]
    }
   ],
   "source": [
    "g1 = x**2 - y**3 \n",
    "g2 = x**3 - y**2 + x\n",
    "G1 = sp.groebner([g1,g2], x, y, order='lex', method='buchberger') # Orden lex x > y\n",
    "G2 = sp.groebner([g1,g2], y, x, order='lex', method='buchberger') # Orden lex y > x\n",
    "G3 = sp.groebner([g1,g2], x, y, order='grevlex', method='buchberger') # Orden grevlex x > y\n",
    "G4 = sp.groebner([g1,g2], y, x, order='grevlex', method='buchberger') # Orden grevlex y > x\n",
    "G5 = sp.groebner([g1,g2], x, y, order='grlex', method='buchberger')\n",
    "G6 = sp.groebner([g1,g2], y, x, order='grlex', method='buchberger')\n",
    "\n",
    "for i in [G1,G2,G3,G4,G5,G6]:\n",
    "    print i"
   ]
  },
  {
   "cell_type": "markdown",
   "metadata": {},
   "source": [
    "En sage, podemos computar todas las bases de Groebner asociadas a un ideal con sus distintos órdenes usando el paquete de funciones de _sage_."
   ]
  },
  {
   "cell_type": "code",
   "execution_count": 113,
   "metadata": {
    "collapsed": true
   },
   "outputs": [],
   "source": [
    "import sage.all as sg"
   ]
  },
  {
   "cell_type": "code",
   "execution_count": 114,
   "metadata": {
    "collapsed": false
   },
   "outputs": [
    {
     "data": {
      "text/plain": [
       "[[y^9 + 2*y^6 - y^4 + y^3, y^7 + y^4 - y^2 + x],\n",
       " [y^7 + y^4 - y^2 + x, -y^6 + x*y^2 - y^3, -y^3 + x^2],\n",
       " [y^6 - x*y^2 + y^3, x*y^3 - y^2 + x, -y^3 + x^2],\n",
       " [y^3 - x^2, x^3 - y^2 + x],\n",
       " [-x^3 + y^2 - x, x^3*y - x^2 + x*y, x^6 + 2*x^4 - x^2*y + x^2],\n",
       " [-x^3 + y^2 - x, -x^6 - 2*x^4 + x^2*y - x^2, x^7 + 2*x^5 + x^3 - x^2 + x*y],\n",
       " [-x^3 + y^2 - x, x^7 + 2*x^5 + x^3 - x^2 + x*y, x^8 + 3*x^6 + 3*x^4 - x^3 + x^2]]"
      ]
     },
     "execution_count": 114,
     "metadata": {},
     "output_type": "execute_result"
    }
   ],
   "source": [
    "x,y=sg.QQ['x,y'].gens()\n",
    "i= sg.ideal(x**2 - y**3, x**3 - y**2 + x)\n",
    "g = i.groebner_fan()\n",
    "g.reduced_groebner_bases()"
   ]
  },
  {
   "cell_type": "markdown",
   "metadata": {},
   "source": [
    "Calculemos sus correspondientes conos:\n",
    "\n",
    "- $C_{G_1} = \\{(a,b)\\in \\mathbb{R}_{\\geq 0}^2 | 14b\\geq 0, a + 9b\\geq 0\\}$\n",
    "- $C_{G_2} = \\{(a,b)\\in \\mathbb{R}_{\\geq 0}^2 | a + 9b\\geq 0, -9b + 2ab\\geq 0, 2a-3b\\geq 0 \\} $\n",
    "- $C_{G_3} = \\{(a,b)\\in \\mathbb{R}_{\\geq 0}^2 | 9b - 2ab \\geq 0, 3ab - 2b + a\\geq 0, -3b + 2a\\geq 0 \\} $\n",
    "- $C_{G_4} = \\{(a,b)\\in \\mathbb{R}_{\\geq 0}^2 | 3b - 2a\\geq 0, 4a - 2b\\geq 0 \\} $\n",
    "- $C_{G_5} = \\{(a,b)\\in \\mathbb{R}_{\\geq 0}^2 | -4a + 2b \\geq 0, 4ab - 2a\\geq 0, 12a - 2ab\\geq 0 \\} $\n",
    "- $C_{G_6} = \\{(a,b)\\in \\mathbb{R}_{\\geq 0}^2 | -4a + 2b \\geq 0, -12a + 2ab\\geq 0, 13a + ab\\geq 0 \\} $\n",
    "- $C_{G_7} = \\{(a,b)\\in \\mathbb{R}_{\\geq 0}^2 | -4a + 2b \\geq 0, 13a + ab\\geq 0, 17a\\geq 0\\} $"
   ]
  },
  {
   "cell_type": "markdown",
   "metadata": {},
   "source": [
    "***"
   ]
  },
  {
   "cell_type": "markdown",
   "metadata": {},
   "source": [
    "Utilizando **SAGE**:\n",
    "\n",
    "Llamamos a la función que nos devuelve los rayos que conforman el abanico de Groebner,"
   ]
  },
  {
   "cell_type": "code",
   "execution_count": 123,
   "metadata": {
    "collapsed": true
   },
   "outputs": [],
   "source": [
    "import matplotlib.lines as lines\n",
    "import matplotlib as mtplt\n",
    "%matplotlib inline"
   ]
  },
  {
   "cell_type": "code",
   "execution_count": 124,
   "metadata": {
    "collapsed": false
   },
   "outputs": [
    {
     "name": "stdout",
     "output_type": "stream",
     "text": [
      "[[0, 1], [1, 0], [1, 4], [1, 6], [2, 3], [3, 2], [4, 1], [7, 1]]\n"
     ]
    }
   ],
   "source": [
    "pf = g.polyhedralfan()\n",
    "print pf.rays()"
   ]
  },
  {
   "cell_type": "markdown",
   "metadata": {},
   "source": [
    "Vamos a dibujar el abanico de Groebner,"
   ]
  },
  {
   "cell_type": "code",
   "execution_count": 131,
   "metadata": {
    "collapsed": false
   },
   "outputs": [
    {
     "data": {
      "image/png": "[encoded data removed]",
      "text/plain": [
       "<matplotlib.figure.Figure at 0x7f8746d8ea90>"
      ]
     },
     "metadata": {},
     "output_type": "display_data"
    }
   ],
   "source": [
    "fig, ax = plt.subplots()\n",
    "fig.set_size_inches(6,6)\n",
    "\n",
    "ax.set_xlim([0,1])\n",
    "ax.set_ylim([0,1])\n",
    "\n",
    "line0= [(0,0),pf.rays()[0]]\n",
    "line1= [(0,0),pf.rays()[3]]\n",
    "line2= [(0,0),pf.rays()[2]]\n",
    "line3= [(0,0),pf.rays()[4]]\n",
    "line4= [(0,0),pf.rays()[5]]\n",
    "line5= [(0,0),pf.rays()[6]]\n",
    "line6= [(0,0),pf.rays()[7]]\n",
    "line7= [(0,0),pf.rays()[1]]\n",
    "\n",
    "(line0_xs, line0_ys) = zip(*line0)\n",
    "(line1_xs, line1_ys) = zip(*line1)\n",
    "(line2_xs, line2_ys) = zip(*line2)\n",
    "(line3_xs, line3_ys) = zip(*line3)\n",
    "(line4_xs, line4_ys) = zip(*line4)\n",
    "(line5_xs, line5_ys) = zip(*line5)\n",
    "(line6_xs, line6_ys) = zip(*line6)\n",
    "(line7_xs, line7_ys) = zip(*line7)\n",
    "\n",
    "ax.add_line(Line2D(line0_xs, line0_ys, linewidth=2, color='black'))\n",
    "ax.add_line(Line2D(line1_xs, line1_ys, linewidth=2, color='black'))\n",
    "ax.add_line(Line2D(line2_xs, line2_ys, linewidth=2, color='black'))\n",
    "ax.add_line(Line2D(line3_xs, line3_ys, linewidth=2, color='black'))\n",
    "ax.add_line(Line2D(line4_xs, line4_ys, linewidth=2, color='black'))\n",
    "ax.add_line(Line2D(line5_xs, line5_ys, linewidth=2, color='black'))\n",
    "ax.add_line(Line2D(line6_xs, line6_ys, linewidth=2, color='black'))\n",
    "ax.add_line(Line2D(line7_xs, line7_ys, linewidth=2, color='black'))\n",
    "\n",
    "#ax.fill_between(line6_xs, line6_ys, line7_ys, color='red')\n",
    "#ax.fill_between(line5_xs, line5_ys, line6_ys, color='green')\n",
    "#ax.fill_between((0,1), line4_ys, line5_ys, color='cyan')\n",
    "#ax.fill_between((0,4), line3_ys, line4_ys, color='yellow')\n",
    "#ax.fill_between((0,2), line2_ys, line3_ys, color='magenta')\n",
    "#ax.fill_between(line1_xs, line1_ys, line2_ys, color='blue')\n",
    "#ax.fill_between(line0_xs, line0_ys, line1_ys, color='green')\n",
    "\n",
    "plt.title(u'Abanico de Groebner asociado al ideal <x^2 − y^3 , x^3 − y^2 + x>')\n",
    "ax.grid(True)\n",
    "show()"
   ]
  },
  {
   "cell_type": "markdown",
   "metadata": {},
   "source": [
    "***"
   ]
  },
  {
   "cell_type": "markdown",
   "metadata": {},
   "source": [
    "## Ejercicio 4\n",
    "¿Puede escribirse $4x^4y^2 + 4y^6 - 2x^4 - 4x^2y^2 - 6y^4 + 2x^2 + 4y^2 -1$ de la forma $h(x^2 + y^2 + 1, x^2 - y^2)$ para algún polinomio $h\\in \\mathbb{Q}[x,y]$?"
   ]
  },
  {
   "cell_type": "markdown",
   "metadata": {},
   "source": [
    "**Respuesta:**"
   ]
  },
  {
   "cell_type": "markdown",
   "metadata": {},
   "source": [
    "Podemos calcular la base de Groebner asociada al ideal $< x^2 + y^2 + 1, x^2-y^2 >$ y veremos si el polinomio $4x^4y^2 + 4y^6 - 2x^4 -4x^2y^2 - 6y^4 + 2x^2 + 4y^2 - 1$ es reducible por esta base."
   ]
  },
  {
   "cell_type": "markdown",
   "metadata": {},
   "source": [
    "$f_1:=x^2+y^2+1$, $f_2:=x^2-y^2$, inicializamos $G':=\\{f_1, f_2\\}$"
   ]
  },
  {
   "cell_type": "markdown",
   "metadata": {},
   "source": [
    "\\begin{equation}\n",
    "    S(f_1,f_2) = \\frac{x^2}{x^2} (x^2+y^2+1) - \\frac{x^2}{x^2} (x^2-y^2) = 2y^2+1\n",
    "\\end{equation}\n",
    "\n",
    "Añadimos a nuestra base $f_3:=2y^2 + 1$ ya que su $LT(f_3) = 2y^2$ no es divisible por ningún otro $LT(g)$ para $g\\in G'$\n",
    "\n",
    "Seguimos calculando $S-$polinomios de la nueva base $G'':=\\{f_1, f_2, f_3\\}$\n",
    "\n",
    "\\begin{equation}\n",
    "    S(f_1, f_3) = \\frac{2x^2y^2}{x^2} (x^2+y^2+1) - \\frac{2x^2y^2}{2y^2} (2y^2+1) = -x^2 + 2y^4 + 2y^2 \\xrightarrow{f_2} 2y^4 + y^2 \\xrightarrow{y^2 f_3} 0\n",
    "\\end{equation}\n",
    "\n",
    "\\begin{equation}\n",
    "    S(f_2, f_3) = \\frac{2x^2y^2}{x^2} (x^2-y^2) - \\frac{2x^2y^2}{2y^2} (2y^2+1) = -x^2-2y^4 \\xrightarrow{- f_2} -2y^4 - y^2 \\xrightarrow{-y^2 f_3} 0\n",
    "\\end{equation}\n",
    "\n",
    "La base nos queda $G'':=\\{x^2+y^2+1, x^2-y^2, 2y^2+1\\}$. La podemos reducir ya que $LT(f_1)$ divide a $LT(f_2)$, sumamos los dos polinomios, $f_1 + f_2 = x^2 + y^2 +1 + x^2 - y^2 = 2x^2 + 1$.\n",
    "\n",
    "Así $G:=\\{2x^2 + 1, 2y^2 + 1\\}$."
   ]
  },
  {
   "cell_type": "markdown",
   "metadata": {
    "collapsed": false
   },
   "source": [
    "O, utilizando sympy:"
   ]
  },
  {
   "cell_type": "code",
   "execution_count": 1,
   "metadata": {
    "collapsed": false
   },
   "outputs": [
    {
     "data": {
      "text/plain": [
       "GroebnerBasis([2*x**2 + 1, 2*y**2 + 1], x, y, domain='ZZ', order='lex')"
      ]
     },
     "execution_count": 1,
     "metadata": {},
     "output_type": "execute_result"
    }
   ],
   "source": [
    "from sympy import groebner\n",
    "import sympy as sp\n",
    "from sympy.abc import x,y,z\n",
    "\n",
    "a1=x**2+y**2+1\n",
    "a2=x**2 - y**2\n",
    "f=4*(x**4)*(y**2)  + 4*y**6 - 2*x**4 - 4*(x**2)*(y**2) - 6*(y**4) + 2*x**2 + 4*y**2 - 1\n",
    "G = sp.groebner([a1,a2])\n",
    "G"
   ]
  },
  {
   "cell_type": "markdown",
   "metadata": {
    "collapsed": false
   },
   "source": [
    "Procedemos a reducir el polinomio a través de los polinomios de la base de Groebner, $f_1:=2x^2 + 1$, $f_2:=2y^2+1$,\n",
    "\n",
    "\\begin{equation}\n",
    "    \\begin{array}{l l}\n",
    "        4x^4y^2 + 4y^6 - 2x^4 -4x^2y^2 - 6y^4 + 2x^2 + 4y^2 - 1 \\xrightarrow{2x^2y^2 f_1} 4y^6 - 2x^4 -6x^2y^2 - 6y^4 + 2x^2 + 4y^2 - 1 \\xrightarrow{2y^4 f_2} -2x^4 - 6x^2y^2 - 8y^4 + 2x^2 + 4y^2-1 \\xrightarrow{-x^2 f_1} -6x^2y^2 - 8y^4 + 3x^2 + 4y^2 - 1 \\xrightarrow{-3 f_1} -8y^4 + 3x^2 + 7y^2 - 1 \\xrightarrow{-4y^2 f_2} 3x^2 + 11y^2 - 1 \\xrightarrow{3/2 f_1} 11y^2 - \\frac{5}{2} \\xrightarrow{11/2 f_2} -8 \n",
    "    \\end{array}\n",
    "\\end{equation}\n"
   ]
  },
  {
   "cell_type": "markdown",
   "metadata": {},
   "source": [
    "O, utilizando la orden de _Sympy_ de _reduce_ obtenemos el mismo resto:"
   ]
  },
  {
   "cell_type": "code",
   "execution_count": null,
   "metadata": {
    "collapsed": false
   },
   "outputs": [],
   "source": [
    "G.reduce(f)"
   ]
  },
  {
   "cell_type": "markdown",
   "metadata": {},
   "source": [
    "Por lo que concluimos que no es reducible, así que **no** existe un $h\\in \\mathbb{Q}[x,y]$ que cumpla nuestra condición."
   ]
  },
  {
   "cell_type": "markdown",
   "metadata": {},
   "source": [
    "***"
   ]
  }
 ],
 "metadata": {
  "kernelspec": {
   "display_name": "Python 2",
   "language": "python",
   "name": "python2"
  },
  "language_info": {
   "codemirror_mode": {
    "name": "ipython",
    "version": 2
   },
   "file_extension": ".py",
   "mimetype": "text/x-python",
   "name": "python",
   "nbconvert_exporter": "python",
   "pygments_lexer": "ipython2",
   "version": "2.7.8"
  }
 },
 "nbformat": 4,
 "nbformat_minor": 0
}
