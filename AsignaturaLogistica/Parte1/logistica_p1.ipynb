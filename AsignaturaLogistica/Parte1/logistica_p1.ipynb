{
 "metadata": {
  "name": "",
  "signature": "sha256:a6357df0a6b331c7a97eeb655f6a01efc46802376932171ccd0c2685e2c35da6"
 },
 "nbformat": 3,
 "nbformat_minor": 0,
 "worksheets": [
  {
   "cells": [
    {
     "cell_type": "code",
     "collapsed": false,
     "input": [
      "%pylab\n",
      "from __future__ import division\n",
      "from numpy.fft import *\n",
      "\n",
      "close('all')"
     ],
     "language": "python",
     "metadata": {},
     "outputs": [
      {
       "output_type": "stream",
       "stream": "stdout",
       "text": [
        "Using matplotlib backend: TkAgg\n",
        "Populating the interactive namespace from numpy and matplotlib\n"
       ]
      },
      {
       "output_type": "stream",
       "stream": "stderr",
       "text": [
        "WARNING: pylab import has clobbered these variables: ['bench', 'info', 'fft', 'test']\n",
        "`%matplotlib` prevents importing * from pylab and numpy\n"
       ]
      }
     ],
     "prompt_number": 6
    },
    {
     "cell_type": "code",
     "collapsed": false,
     "input": [
      "M=100\n",
      "\n",
      "t=linspace(0,10,M)\n",
      "\n",
      "f1=(33 - t)/3\n",
      "f2=(36-3*t)/2\n",
      "f3=(8-0.5*t)/0.25\n",
      "f4=(4-0.2*t)/0.2\n",
      "f5=(72-t)/5"
     ],
     "language": "python",
     "metadata": {},
     "outputs": [],
     "prompt_number": 7
    },
    {
     "cell_type": "code",
     "collapsed": false,
     "input": [
      "figure(1,[20.5,20.5])\n",
      "subplot(2,2,1),plot(t,f1,'o'),grid(True)\n",
      "subplot(2,2,1),plot(t,f2),grid(True)\n",
      "subplot(2,2,1),plot(t,f3),grid(True)\n",
      "subplot(2,2,1),plot(t,f4),grid(True)\n",
      "subplot(2,2,1),plot(t,f5),grid(True)\n"
     ],
     "language": "python",
     "metadata": {},
     "outputs": [
      {
       "metadata": {},
       "output_type": "pyout",
       "prompt_number": 8,
       "text": [
        "(<matplotlib.axes.AxesSubplot at 0x7fd067003f10>,\n",
        " [<matplotlib.lines.Line2D at 0x7fd066cec790>],\n",
        " None)"
       ]
      }
     ],
     "prompt_number": 8
    },
    {
     "cell_type": "code",
     "collapsed": false,
     "input": [
      "from sympy import plot_implicit, cos, sin, symbols, Eq, And\n",
      "x1, x2 = symbols('x1 x2')"
     ],
     "language": "python",
     "metadata": {},
     "outputs": [],
     "prompt_number": 10
    },
    {
     "cell_type": "code",
     "collapsed": false,
     "input": [
      "from sympy.plotting import plot_implicit\n",
      "p = plot_implicit(And(3*x1 + 2*x2  <= 36, 0.5*x1 + 0.25*x2 <= 8, 0.2*x1+0.2*x2 <= 4, x1 + 5*x2 <= 72, x1 + 3*x2 >= 33), (x1, 0, 10), (x2, 0, 35), ) # also creates a window with the plot\n"
     ],
     "language": "python",
     "metadata": {},
     "outputs": [],
     "prompt_number": 16
    },
    {
     "cell_type": "code",
     "collapsed": false,
     "input": [
      "help (plot_implicit)\n"
     ],
     "language": "python",
     "metadata": {},
     "outputs": [
      {
       "output_type": "stream",
       "stream": "stdout",
       "text": [
        "Help on function plot_implicit in module sympy.plotting.plot_implicit:\n",
        "\n",
        "plot_implicit(expr, *args, **kwargs)\n",
        "    A plot function to plot implicit equations / inequalities.\n",
        "    \n",
        "    Arguments\n",
        "    =========\n",
        "    \n",
        "    - ``expr`` : The equation / inequality that is to be plotted.\n",
        "    - ``(x, xmin, xmax)`` optional, 3-tuple denoting the range of symbol\n",
        "      ``x``\n",
        "    - ``(y, ymin, ymax)`` optional, 3-tuple denoting the range of symbol\n",
        "      ``y``\n",
        "    \n",
        "    The following arguments can be passed as named parameters.\n",
        "    \n",
        "    - ``adaptive``. Boolean. The default value is set to True. It has to be\n",
        "        set to False if you want to use a mesh grid.\n",
        "    \n",
        "    - ``depth`` integer. The depth of recursion for adaptive mesh grid.\n",
        "        Default value is 0. Takes value in the range (0, 4).\n",
        "    \n",
        "    - ``points`` integer. The number of points if adaptive mesh grid is not\n",
        "        used. Default value is 200.\n",
        "    \n",
        "    - ``title`` string .The title for the plot.\n",
        "    \n",
        "    - ``xlabel`` string. The label for the x - axis\n",
        "    \n",
        "    - ``ylabel`` string. The label for the y - axis\n",
        "    \n",
        "    plot_implicit, by default, uses interval arithmetic to plot functions. If\n",
        "    the expression cannot be plotted using interval arithmetic, it defaults to\n",
        "    a generating a contour using a mesh grid of fixed number of points. By\n",
        "    setting adaptive to False, you can force plot_implicit to use the mesh\n",
        "    grid. The mesh grid method can be effective when adaptive plotting using\n",
        "    interval arithmetic, fails to plot with small line width.\n",
        "    \n",
        "    Examples:\n",
        "    =========\n",
        "    \n",
        "    Plot expressions:\n",
        "    \n",
        "    >>> from sympy import plot_implicit, cos, sin, symbols, Eq, And\n",
        "    >>> x, y = symbols('x y')\n",
        "    \n",
        "    Without any ranges for the symbols in the expression\n",
        "    \n",
        "    >>> p1 = plot_implicit(Eq(x**2 + y**2, 5))\n",
        "    \n",
        "    With the range for the symbols\n",
        "    \n",
        "    >>> p2 = plot_implicit(Eq(x**2 + y**2, 3),\n",
        "    ...         (x, -3, 3), (y, -3, 3))\n",
        "    \n",
        "    With depth of recursion as argument.\n",
        "    \n",
        "    >>> p3 = plot_implicit(Eq(x**2 + y**2, 5),\n",
        "    ...         (x, -4, 4), (y, -4, 4), depth = 2)\n",
        "    \n",
        "    Using mesh grid and not using adaptive meshing.\n",
        "    \n",
        "    >>> p4 = plot_implicit(Eq(x**2 + y**2, 5),\n",
        "    ...         (x, -5, 5), (y, -2, 2), adaptive=False)\n",
        "    \n",
        "    Using mesh grid with number of points as input.\n",
        "    \n",
        "    >>> p5 = plot_implicit(Eq(x**2 + y**2, 5),\n",
        "    ...         (x, -5, 5), (y, -2, 2),\n",
        "    ...         adaptive=False, points=400)\n",
        "    \n",
        "    Plotting regions.\n",
        "    \n",
        "    >>> p6 = plot_implicit(y > x**2)\n",
        "    \n",
        "    Plotting Using boolean conjunctions.\n",
        "    \n",
        "    >>> p7 = plot_implicit(And(y > x, y > -x))\n",
        "\n"
       ]
      }
     ],
     "prompt_number": 25
    },
    {
     "cell_type": "code",
     "collapsed": false,
     "input": [],
     "language": "python",
     "metadata": {},
     "outputs": []
    },
    {
     "cell_type": "code",
     "collapsed": false,
     "input": [
      "figure(1,[20.5,20.5])\n",
      "subplot(2,2,1), plot_implicit(3*x1 + 2*x2 <= 36, (x1, -20, 20), (x2, -20, 20)  )\n"
     ],
     "language": "python",
     "metadata": {},
     "outputs": [
      {
       "metadata": {},
       "output_type": "display_data",
       "png": "[encoded data removed]",
       "text": [
        "<matplotlib.figure.Figure at 0x7f39c018ba10>"
       ]
      },
      {
       "metadata": {},
       "output_type": "display_data",
       "png": "[encoded data removed]",
       "text": [
        "<matplotlib.figure.Figure at 0x7f39bbb5fa90>"
       ]
      },
      {
       "metadata": {},
       "output_type": "pyout",
       "prompt_number": 65,
       "text": [
        "(<matplotlib.axes.AxesSubplot at 0x7f39c018b150>,\n",
        " <sympy.plotting.plot.Plot at 0x7f39bbb5f4d0>)"
       ]
      }
     ],
     "prompt_number": 65
    },
    {
     "cell_type": "code",
     "collapsed": false,
     "input": [
      "p2 = plot_implicit(0.5*x1 + 0.25*x2 <= 8)\n",
      "p3 = plot_implicit(0.2*x1 + 0.2*x2 <= 4)\n",
      "p4 = plot_implicit(x1 + 5*x2 <= 72)\n",
      "p5 = plot_implicit(x1 + 3*x2 >= 33)"
     ],
     "language": "python",
     "metadata": {},
     "outputs": []
    },
    {
     "cell_type": "code",
     "collapsed": false,
     "input": [],
     "language": "python",
     "metadata": {},
     "outputs": []
    }
   ],
   "metadata": {}
  }
 ]
}