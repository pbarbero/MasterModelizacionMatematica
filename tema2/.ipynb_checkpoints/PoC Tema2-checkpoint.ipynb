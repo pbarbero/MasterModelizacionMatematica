{
 "metadata": {
  "name": "",
  "signature": "sha256:ae7629046bb973f2ed83c7eb2ed79ecb7101318aedd157ac24c02f5c5515f0a3"
 },
 "nbformat": 3,
 "nbformat_minor": 0,
 "worksheets": [
  {
   "cells": [
    {
     "cell_type": "code",
     "collapsed": false,
     "input": [
      "a=[1,2,3,5,pi,7,0,0.01]"
     ],
     "language": "python",
     "metadata": {},
     "outputs": [],
     "prompt_number": 1
    },
    {
     "cell_type": "code",
     "collapsed": false,
     "input": [
      "print a"
     ],
     "language": "python",
     "metadata": {},
     "outputs": [
      {
       "output_type": "stream",
       "stream": "stdout",
       "text": [
        "[1, 2, 3, 5, 3.141592653589793, 7, 0, 0.01]\n"
       ]
      }
     ],
     "prompt_number": 2
    },
    {
     "cell_type": "code",
     "collapsed": false,
     "input": [
      "A=array(([1,2,3,4],[0,2,9,7],[0.1,0.2,0.3,0.4])) # matriz 3 por 4"
     ],
     "language": "python",
     "metadata": {},
     "outputs": [],
     "prompt_number": 3
    },
    {
     "cell_type": "code",
     "collapsed": false,
     "input": [
      "print A"
     ],
     "language": "python",
     "metadata": {},
     "outputs": [
      {
       "output_type": "stream",
       "stream": "stdout",
       "text": [
        "[[ 1.   2.   3.   4. ]\n",
        " [ 0.   2.   9.   7. ]\n",
        " [ 0.1  0.2  0.3  0.4]]\n"
       ]
      }
     ],
     "prompt_number": 4
    },
    {
     "cell_type": "code",
     "collapsed": false,
     "input": [
      "whos"
     ],
     "language": "python",
     "metadata": {},
     "outputs": [
      {
       "output_type": "stream",
       "stream": "stdout",
       "text": [
        "Variable   Type       Data/Info\n",
        "-------------------------------\n",
        "A          ndarray    3x4: 12 elems, type `float64`, 96 bytes\n",
        "a          list       n=8\n"
       ]
      }
     ],
     "prompt_number": 5
    },
    {
     "cell_type": "code",
     "collapsed": false,
     "input": [
      "a[0]"
     ],
     "language": "python",
     "metadata": {},
     "outputs": [
      {
       "metadata": {},
       "output_type": "pyout",
       "prompt_number": 6,
       "text": [
        "1"
       ]
      }
     ],
     "prompt_number": 6
    },
    {
     "cell_type": "code",
     "collapsed": false,
     "input": [
      "a[1:5]"
     ],
     "language": "python",
     "metadata": {},
     "outputs": [
      {
       "metadata": {},
       "output_type": "pyout",
       "prompt_number": 7,
       "text": [
        "[2, 3, 5, 3.141592653589793]"
       ]
      }
     ],
     "prompt_number": 7
    },
    {
     "cell_type": "code",
     "collapsed": false,
     "input": [
      "a[5:1:-1]"
     ],
     "language": "python",
     "metadata": {},
     "outputs": [
      {
       "metadata": {},
       "output_type": "pyout",
       "prompt_number": 9,
       "text": [
        "[7, 3.141592653589793, 5, 3]"
       ]
      }
     ],
     "prompt_number": 9
    },
    {
     "cell_type": "code",
     "collapsed": false,
     "input": [
      "p=arange(0,1.0,0.25)"
     ],
     "language": "python",
     "metadata": {},
     "outputs": [],
     "prompt_number": 10
    },
    {
     "cell_type": "code",
     "collapsed": false,
     "input": [
      "print p"
     ],
     "language": "python",
     "metadata": {},
     "outputs": [
      {
       "output_type": "stream",
       "stream": "stdout",
       "text": [
        "[ 0.    0.25  0.5   0.75]\n"
       ]
      }
     ],
     "prompt_number": 11
    },
    {
     "cell_type": "code",
     "collapsed": false,
     "input": [
      "q=linspace(0,1,4)"
     ],
     "language": "python",
     "metadata": {},
     "outputs": [],
     "prompt_number": 12
    },
    {
     "cell_type": "code",
     "collapsed": false,
     "input": [
      "print q"
     ],
     "language": "python",
     "metadata": {},
     "outputs": [
      {
       "output_type": "stream",
       "stream": "stdout",
       "text": [
        "[ 0.          0.33333333  0.66666667  1.        ]\n"
       ]
      }
     ],
     "prompt_number": 13
    },
    {
     "cell_type": "code",
     "collapsed": false,
     "input": [
      "from __future__ import division"
     ],
     "language": "python",
     "metadata": {},
     "outputs": [],
     "prompt_number": 14
    },
    {
     "cell_type": "code",
     "collapsed": false,
     "input": [
      "t=arange(-pi,pi,0.05)"
     ],
     "language": "python",
     "metadata": {},
     "outputs": [],
     "prompt_number": 16
    },
    {
     "cell_type": "code",
     "collapsed": false,
     "input": [
      "h=t*(t-1)**2"
     ],
     "language": "python",
     "metadata": {},
     "outputs": [],
     "prompt_number": 17
    },
    {
     "cell_type": "code",
     "collapsed": false,
     "input": [
      "print h"
     ],
     "language": "python",
     "metadata": {},
     "outputs": [
      {
       "output_type": "stream",
       "stream": "stdout",
       "text": [
        "[ -5.38870781e+01  -5.17567559e+01  -4.96828075e+01  -4.76644831e+01\n",
        "  -4.57010325e+01  -4.37917058e+01  -4.19357530e+01  -4.01324241e+01\n",
        "  -3.83809691e+01  -3.66806380e+01  -3.50306807e+01  -3.34303474e+01\n",
        "  -3.18788879e+01  -3.03755523e+01  -2.89195907e+01  -2.75102529e+01\n",
        "  -2.61467890e+01  -2.48284490e+01  -2.35544828e+01  -2.23241406e+01\n",
        "  -2.11366723e+01  -1.99913278e+01  -1.88873573e+01  -1.78240106e+01\n",
        "  -1.68005378e+01  -1.58161889e+01  -1.48702139e+01  -1.39618628e+01\n",
        "  -1.30903856e+01  -1.22550323e+01  -1.14550528e+01  -1.06896973e+01\n",
        "  -9.95821561e+00  -9.25985784e+00  -8.59387395e+00  -7.95951396e+00\n",
        "  -7.35602786e+00  -6.78266564e+00  -6.23867732e+00  -5.72331289e+00\n",
        "  -5.23582234e+00  -4.77545569e+00  -4.34146293e+00  -3.93309405e+00\n",
        "  -3.54959907e+00  -3.19022797e+00  -2.85423077e+00  -2.54085745e+00\n",
        "  -2.24935803e+00  -1.97898249e+00  -1.72898085e+00  -1.49860309e+00\n",
        "  -1.28709923e+00  -1.09371925e+00  -9.17713162e-01  -7.58330966e-01\n",
        "  -6.14822659e-01  -4.86438242e-01  -3.72427715e-01  -2.72041078e-01\n",
        "  -1.84528330e-01  -1.09139472e-01  -4.51245044e-02   8.26657372e-03\n",
        "   5.17837621e-02   8.61770606e-02   1.12196469e-01   1.30591988e-01\n",
        "   1.42113617e-01   1.47511357e-01   1.47535206e-01   1.42935166e-01\n",
        "   1.34461236e-01   1.22863416e-01   1.08891706e-01   9.32961067e-02\n",
        "   7.68266174e-02   6.02332383e-02   4.42659694e-02   2.96748107e-02\n",
        "   1.72097621e-02   7.62082380e-03   1.65799567e-03   7.12777341e-05\n",
        "   3.61066999e-03   1.30261725e-02   2.90677851e-02   5.24855080e-02\n",
        "   8.40293410e-02   1.24449284e-01   1.74495338e-01   2.34917501e-01\n",
        "   3.06465775e-01   3.89890159e-01   4.85940653e-01   5.95367258e-01\n",
        "   7.18919972e-01   8.57348797e-01   1.01140373e+00   1.18183478e+00\n",
        "   1.36939193e+00   1.57482520e+00   1.79888457e+00   2.04232006e+00\n",
        "   2.30588166e+00   2.59031936e+00   2.89638318e+00   3.22482311e+00\n",
        "   3.57638914e+00   3.95183129e+00   4.35189955e+00   4.77734392e+00\n",
        "   5.22891439e+00   5.70736098e+00   6.21343368e+00   6.74788249e+00\n",
        "   7.31145741e+00   7.90490843e+00   8.52898557e+00   9.18443882e+00\n",
        "   9.87201818e+00   1.05924737e+01   1.13465552e+01   1.21350129e+01\n",
        "   1.29585967e+01   1.38180566e+01]\n"
       ]
      }
     ],
     "prompt_number": 19
    },
    {
     "cell_type": "code",
     "collapsed": false,
     "input": [
      "x=linspace(0,1,1000)\n",
      "f=(sin(4*pi*x**2)+(x-1)**2*cos(x))/(exp(x)+log(2-x))\n",
      "hold(False), plot(x,f), grid(True)"
     ],
     "language": "python",
     "metadata": {},
     "outputs": [
      {
       "metadata": {},
       "output_type": "pyout",
       "prompt_number": 22,
       "text": [
        "(None, [<matplotlib.lines.Line2D at 0x7f196a8127d0>], None)"
       ]
      }
     ],
     "prompt_number": 22
    },
    {
     "cell_type": "code",
     "collapsed": false,
     "input": [
      "plot(f)"
     ],
     "language": "python",
     "metadata": {},
     "outputs": [
      {
       "metadata": {},
       "output_type": "pyout",
       "prompt_number": 24,
       "text": [
        "[<matplotlib.lines.Line2D at 0x7f196a719710>]"
       ]
      }
     ],
     "prompt_number": 24
    },
    {
     "cell_type": "code",
     "collapsed": false,
     "input": [
      "t1=linspace(0,1,20) #lets create 4 partitions\n",
      "t2=linspace(0,1,100)\n",
      "t3=linspace(0,1,101)\n",
      "t4=linspace(0,1,2000)"
     ],
     "language": "python",
     "metadata": {},
     "outputs": [],
     "prompt_number": 25
    },
    {
     "cell_type": "code",
     "collapsed": false,
     "input": [
      "x1=sin(2*pi*100*t1)\n",
      "x2=sin(2*pi*100*t2)\n",
      "x3=sin(2*pi*100*t3)\n",
      "x4=sin(2*pi*100*t4)"
     ],
     "language": "python",
     "metadata": {},
     "outputs": [],
     "prompt_number": 26
    },
    {
     "cell_type": "code",
     "collapsed": false,
     "input": [
      "close(1), figure(1,[20.5,8.5])"
     ],
     "language": "python",
     "metadata": {},
     "outputs": [
      {
       "metadata": {},
       "output_type": "pyout",
       "prompt_number": 27,
       "text": [
        "(None, <matplotlib.figure.Figure at 0x7f196a7cf350>)"
       ]
      }
     ],
     "prompt_number": 27
    },
    {
     "cell_type": "code",
     "collapsed": false,
     "input": [
      "subplot(2,2,1),plot(t1,x1),title(u'Grafica de x1')\n",
      "subplot(2,2,2),plot(t2,x2),title(u'Grafica de x2')\n",
      "subplot(2,2,3),plot(t3,x3),title(u'Grafica de x3')\n",
      "subplot(2,2,4),plot(t4,x4),title(u'Grafica de x4')"
     ],
     "language": "python",
     "metadata": {},
     "outputs": [
      {
       "metadata": {},
       "output_type": "pyout",
       "prompt_number": 30,
       "text": [
        "(<matplotlib.axes.AxesSubplot at 0x7f196a6613d0>,\n",
        " [<matplotlib.lines.Line2D at 0x7f196a572050>],\n",
        " <matplotlib.text.Text at 0x7f196a5e8210>)"
       ]
      }
     ],
     "prompt_number": 30
    },
    {
     "cell_type": "code",
     "collapsed": false,
     "input": [
      "X=linspace(2/300,2,300) # partici\u00f3n en el eje x\n",
      "Y=linspace(1/200,1,200) # partici\u00f3n en el eje y\n",
      "[x,y]=meshgrid(X,Y)\n",
      "f=sin(10*x*y) # es la matriz de valores que queriamos"
     ],
     "language": "python",
     "metadata": {},
     "outputs": [],
     "prompt_number": 31
    },
    {
     "cell_type": "code",
     "collapsed": false,
     "input": [
      "from mpl_toolkits.mplot3d import Axes3D"
     ],
     "language": "python",
     "metadata": {},
     "outputs": [],
     "prompt_number": 32
    },
    {
     "cell_type": "code",
     "collapsed": false,
     "input": [
      "close('all')\n",
      "fig=figure(1,[20.5,8.5]).add_subplot(111,projection='3d')\n",
      "fig.plot_surface(x,y,f, rstride=4, cstride=4, cmap=cm.jet)"
     ],
     "language": "python",
     "metadata": {},
     "outputs": [
      {
       "metadata": {},
       "output_type": "pyout",
       "prompt_number": 34,
       "text": [
        "<mpl_toolkits.mplot3d.art3d.Poly3DCollection at 0x7f196a640610>"
       ]
      }
     ],
     "prompt_number": 34
    },
    {
     "cell_type": "code",
     "collapsed": false,
     "input": [
      "close(1), figure(1,[16,10]), imshow(f,cmap=cm.jet)"
     ],
     "language": "python",
     "metadata": {},
     "outputs": [
      {
       "metadata": {},
       "output_type": "pyout",
       "prompt_number": 35,
       "text": [
        "(None,\n",
        " <matplotlib.figure.Figure at 0x7f196a07f610>,\n",
        " <matplotlib.image.AxesImage at 0x7f1969b95650>)"
       ]
      }
     ],
     "prompt_number": 35
    },
    {
     "cell_type": "code",
     "collapsed": false,
     "input": [
      "from numpy.fft import *"
     ],
     "language": "python",
     "metadata": {},
     "outputs": [],
     "prompt_number": 36
    },
    {
     "cell_type": "code",
     "collapsed": false,
     "input": [
      "close('all')"
     ],
     "language": "python",
     "metadata": {},
     "outputs": [],
     "prompt_number": 37
    },
    {
     "cell_type": "code",
     "collapsed": false,
     "input": [
      "M=10000\n",
      "t=linspace(0,2*pi*2*M/(2*M+1),2*M+1)\n",
      "f=cos(3*t)/(2+sin(4*t)**4)\n",
      "figure(1,[20.5,8.5])\n",
      "subplot(2,2,1),plot(t,f),grid(True)\n",
      "title(u'Funcion f')"
     ],
     "language": "python",
     "metadata": {},
     "outputs": [
      {
       "metadata": {},
       "output_type": "pyout",
       "prompt_number": 40,
       "text": [
        "<matplotlib.text.Text at 0x7f196a0a9710>"
       ]
      }
     ],
     "prompt_number": 40
    },
    {
     "cell_type": "code",
     "collapsed": false,
     "input": [
      "F=1/(2*M+1)*fft(f)"
     ],
     "language": "python",
     "metadata": {},
     "outputs": [],
     "prompt_number": 41
    },
    {
     "cell_type": "code",
     "collapsed": false,
     "input": [
      "subplot(2,2,2), plot(abs(F),color='red',linewidth=4), grid(True)\n",
      "title('Coeficientes de Fourier, en valor absoluto,\\n en el orden 0,1,...,10000,-10000,...-1')"
     ],
     "language": "python",
     "metadata": {},
     "outputs": [
      {
       "metadata": {},
       "output_type": "pyout",
       "prompt_number": 43,
       "text": [
        "<matplotlib.text.Text at 0x7f196a0ab3d0>"
       ]
      }
     ],
     "prompt_number": 43
    },
    {
     "cell_type": "code",
     "collapsed": false,
     "input": [],
     "language": "python",
     "metadata": {},
     "outputs": []
    }
   ],
   "metadata": {}
  }
 ]
}