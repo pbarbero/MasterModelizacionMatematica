{
 "metadata": {
  "name": "",
  "signature": "sha256:a761c98b610649a186649edeadec780603321d034f10802af527ac72e77a7803"
 },
 "nbformat": 3,
 "nbformat_minor": 0,
 "worksheets": [
  {
   "cells": [
    {
     "cell_type": "code",
     "collapsed": false,
     "input": [
      "#############################################################\n",
      "#  Ejercicio 1: Sean las funciones 1-peri\u00f3dicas tales que...\n",
      "## a. Calcular coeficientes de Fourier"
     ],
     "language": "python",
     "metadata": {},
     "outputs": [],
     "prompt_number": 1
    },
    {
     "cell_type": "code",
     "collapsed": false,
     "input": [
      "from __future__ import division\n",
      "from numpy.fft import *\n",
      "\n",
      "close('all')"
     ],
     "language": "python",
     "metadata": {},
     "outputs": [],
     "prompt_number": 1
    },
    {
     "cell_type": "code",
     "collapsed": false,
     "input": [
      "M=10000\n",
      "t=linspace(0,2*pi*2*M/(2*M+1),2*M+1)\n",
      "f1=t**3 - 3*t**2/2 +t/2\n",
      "f2=t**3 + 3*t**2/2 +t/2"
     ],
     "language": "python",
     "metadata": {},
     "outputs": [],
     "prompt_number": 2
    },
    {
     "cell_type": "code",
     "collapsed": false,
     "input": [
      "figure(1,[20.5,8.5])\n",
      "subplot(2,2,1),plot(t,f1),grid(True),title(u'La funcion f1')\n",
      "subplot(2,2,2),plot(t,f2),grid(True),title(u'La funcion f2')"
     ],
     "language": "python",
     "metadata": {},
     "outputs": [
      {
       "metadata": {},
       "output_type": "pyout",
       "prompt_number": 3,
       "text": [
        "(<matplotlib.axes.AxesSubplot at 0x7ff43006bc90>,\n",
        " [<matplotlib.lines.Line2D at 0x7ff42bf745d0>],\n",
        " None,\n",
        " <matplotlib.text.Text at 0x7ff42bf29190>)"
       ]
      }
     ],
     "prompt_number": 3
    },
    {
     "cell_type": "code",
     "collapsed": false,
     "input": [],
     "language": "python",
     "metadata": {},
     "outputs": []
    }
   ],
   "metadata": {}
  }
 ]
}