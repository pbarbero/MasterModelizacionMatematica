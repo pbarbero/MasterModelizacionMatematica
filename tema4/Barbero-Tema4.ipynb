{
 "metadata": {
  "name": "",
  "signature": "sha256:016e416e64efaf96220dcf536fb96a2191105d3c55d7b7ff225ebfdfa9d16b9d"
 },
 "nbformat": 3,
 "nbformat_minor": 0,
 "worksheets": [
  {
   "cells": [
    {
     "cell_type": "markdown",
     "metadata": {},
     "source": [
      "BARBERO IRIARTE, PILAR - EJERCICIOS TEMA 4\n",
      "=========================================="
     ]
    },
    {
     "cell_type": "code",
     "collapsed": false,
     "input": [
      "%pylab inline\n",
      "\n",
      "from __future__ import division\n",
      "from numpy.fft import *"
     ],
     "language": "python",
     "metadata": {},
     "outputs": [
      {
       "output_type": "stream",
       "stream": "stdout",
       "text": [
        "Populating the interactive namespace from numpy and matplotlib\n"
       ]
      },
      {
       "output_type": "stream",
       "stream": "stderr",
       "text": [
        "WARNING: pylab import has clobbered these variables: ['fft', 'bench', 'test', 'info']\n",
        "`%matplotlib` prevents importing * from pylab and numpy\n"
       ]
      }
     ],
     "prompt_number": 8
    },
    {
     "cell_type": "markdown",
     "metadata": {},
     "source": [
      "# Ejercicio 1\n",
      "Considera la siguiente se\u00f1al causal y finita que empieza en tiempo $n = 0$:"
     ]
    },
    {
     "cell_type": "code",
     "collapsed": false,
     "input": [
      "x=[1, 4, 6, 4, 1]"
     ],
     "language": "python",
     "metadata": {},
     "outputs": [],
     "prompt_number": 7
    },
    {
     "cell_type": "markdown",
     "metadata": {},
     "source": [
      "**a.** Comprueba que, como filtro, $x$ es de bajo paso, dibujando su espectro de amplitudes en $[-\\pi, \\pi]$ con $4000$ muestras."
     ]
    },
    {
     "cell_type": "code",
     "collapsed": false,
     "input": [
      "t=linspace(-pi,pi,4000)\n",
      "s=arange(0,5)\n",
      "X=fftshift(fft(x,4000))"
     ],
     "language": "python",
     "metadata": {},
     "outputs": [],
     "prompt_number": 19
    },
    {
     "cell_type": "code",
     "collapsed": false,
     "input": [
      "figure(1,[10,5])\n",
      "subplot(1,2,1), plot(s,x), grid(True);\n",
      "subplot(1,2,2), plot(t,abs(X)), grid(True);"
     ],
     "language": "python",
     "metadata": {},
     "outputs": [
      {
       "metadata": {},
       "output_type": "display_data",
       "png": "[encoded data removed]",
       "text": [
        "<matplotlib.figure.Figure at 0x7f584a9d1f90>"
       ]
      }
     ],
     "prompt_number": 22
    },
    {
     "cell_type": "markdown",
     "metadata": {},
     "source": [
      "**b.** Con la sola operaci\u00f3n de modificar signos en algunas de las entradas de $x$, construye un filtro de paso alto $y$. Dibuja tambi\u00e9nel espectro de amplitudes de\n",
      "y para confirmar que lo has conseguido."
     ]
    },
    {
     "cell_type": "code",
     "collapsed": false,
     "input": [],
     "language": "python",
     "metadata": {},
     "outputs": []
    },
    {
     "cell_type": "code",
     "collapsed": false,
     "input": [],
     "language": "python",
     "metadata": {},
     "outputs": []
    },
    {
     "cell_type": "markdown",
     "metadata": {},
     "source": [
      "**c.** Explica en qu\u00e9 te has basado para esa modificaci\u00f3n de signos."
     ]
    },
    {
     "cell_type": "code",
     "collapsed": false,
     "input": [],
     "language": "python",
     "metadata": {},
     "outputs": [],
     "prompt_number": 23
    },
    {
     "cell_type": "code",
     "collapsed": false,
     "input": [],
     "language": "python",
     "metadata": {},
     "outputs": [],
     "prompt_number": 23
    },
    {
     "cell_type": "markdown",
     "metadata": {},
     "source": [
      "**d.** Haz la convoluci\u00f3n $z = x * y$ y comprueba que $z$ es pasa banda. \u00bfCu\u00e1l es la raz\u00f3n de que $z$ sea pasa banda?"
     ]
    },
    {
     "cell_type": "code",
     "collapsed": false,
     "input": [],
     "language": "python",
     "metadata": {},
     "outputs": []
    }
   ],
   "metadata": {}
  }
 ]
}