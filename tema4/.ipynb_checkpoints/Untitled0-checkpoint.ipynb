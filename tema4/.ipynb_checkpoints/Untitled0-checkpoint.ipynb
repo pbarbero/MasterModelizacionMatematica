{
 "metadata": {
  "name": "",
  "signature": "sha256:0de260d38cb7dff700e0283bbd6e87073ff6e7ea9017e5d07b3ab1426f7513f3"
 },
 "nbformat": 3,
 "nbformat_minor": 0,
 "worksheets": []
}